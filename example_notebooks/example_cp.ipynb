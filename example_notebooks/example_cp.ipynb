{
 "cells": [
  {
   "cell_type": "markdown",
   "metadata": {},
   "source": [
    "# Example of CellProfiler project for idrstream"
   ]
  },
  {
   "cell_type": "markdown",
   "metadata": {},
   "source": [
    "## Import Libraries"
   ]
  },
  {
   "cell_type": "code",
   "execution_count": 1,
   "metadata": {},
   "outputs": [],
   "source": [
    "import pathlib\n",
    "import pandas as pd\n",
    "import shutil\n",
    "\n",
    "from cellpose import core\n",
    "\n",
    "import sys\n",
    "sys.path.append(\"../\")\n",
    "from idrstream.CP_idr import CellProfilerRun"
   ]
  },
  {
   "cell_type": "markdown",
   "metadata": {},
   "source": [
    "## Initialize idrstream"
   ]
  },
  {
   "cell_type": "code",
   "execution_count": 2,
   "metadata": {},
   "outputs": [],
   "source": [
    "pipeline_path = pathlib.Path(\"example_files/CP_files/mitocheck_idr_cp.cppipe\")\n",
    "# need to fill in on fig\n",
    "plugins_directory = pathlib.Path(\"/home/jenna/Desktop/Github/CellProfiler/cellprofiler/modules/plugins\")\n",
    "idr_id = \"idr0013\"\n",
    "tmp_dir = pathlib.Path(\"../tmp/\")\n",
    "final_data_dir = pathlib.Path(\"../mitocheck_control_features/CP_features\")\n",
    "try:\n",
    "    shutil.rmtree(tmp_dir)\n",
    "    # uncomment the line below if you would like to remove the final data directory (e.g. all .csv.gz files)\n",
    "    # shutil.rmtree(final_data_dir)\n",
    "    pass\n",
    "except:\n",
    "    print(\"No files to remove\")\n",
    "\n",
    "stream = CellProfilerRun(pipeline_path, plugins_directory, idr_id, tmp_dir, final_data_dir, log='cp_idrstream.log')"
   ]
  },
  {
   "cell_type": "markdown",
   "metadata": {},
   "source": [
    "## Initialize CellProfiler metadata compiler"
   ]
  },
  {
   "cell_type": "code",
   "execution_count": 3,
   "metadata": {},
   "outputs": [],
   "source": [
    "data_to_process_tsv = pathlib.Path(\"example_files/data_to_process.tsv\")\n",
    "metadata_save_path = pathlib.Path(\"example_files/data_to_process.csv\")\n",
    "\n",
    "data_to_process = stream.convert_tsv_to_csv(data_to_process_tsv, metadata_save_path)"
   ]
  },
  {
   "cell_type": "markdown",
   "metadata": {},
   "source": [
    "## Load in metadata"
   ]
  },
  {
   "cell_type": "code",
   "execution_count": 4,
   "metadata": {},
   "outputs": [
    {
     "data": {
      "text/html": [
       "<div>\n",
       "<style scoped>\n",
       "    .dataframe tbody tr th:only-of-type {\n",
       "        vertical-align: middle;\n",
       "    }\n",
       "\n",
       "    .dataframe tbody tr th {\n",
       "        vertical-align: top;\n",
       "    }\n",
       "\n",
       "    .dataframe thead th {\n",
       "        text-align: right;\n",
       "    }\n",
       "</style>\n",
       "<table border=\"1\" class=\"dataframe\">\n",
       "  <thead>\n",
       "    <tr style=\"text-align: right;\">\n",
       "      <th></th>\n",
       "      <th>Unnamed: 0</th>\n",
       "      <th>Plate</th>\n",
       "      <th>Well</th>\n",
       "      <th>Frames</th>\n",
       "      <th>Well Number</th>\n",
       "      <th>Control Type</th>\n",
       "      <th>Original Gene Target</th>\n",
       "      <th>Plate_Map_Name</th>\n",
       "      <th>Gene_Replicate</th>\n",
       "      <th>Site</th>\n",
       "      <th>DNA</th>\n",
       "    </tr>\n",
       "  </thead>\n",
       "  <tbody>\n",
       "    <tr>\n",
       "      <th>0</th>\n",
       "      <td>0</td>\n",
       "      <td>LT0001_02</td>\n",
       "      <td>A4</td>\n",
       "      <td>50</td>\n",
       "      <td>4</td>\n",
       "      <td>positive control</td>\n",
       "      <td>ENSG00000149503</td>\n",
       "      <td>LT0001_02_4</td>\n",
       "      <td>1</td>\n",
       "      <td>1</td>\n",
       "      <td>LT0001_02/LT0001_02_4_50.tif</td>\n",
       "    </tr>\n",
       "    <tr>\n",
       "      <th>1</th>\n",
       "      <td>1</td>\n",
       "      <td>LT0001_02</td>\n",
       "      <td>A15</td>\n",
       "      <td>50</td>\n",
       "      <td>15</td>\n",
       "      <td>negative control</td>\n",
       "      <td>negative control</td>\n",
       "      <td>LT0001_02_15</td>\n",
       "      <td>1</td>\n",
       "      <td>1</td>\n",
       "      <td>LT0001_02/LT0001_02_15_50.tif</td>\n",
       "    </tr>\n",
       "    <tr>\n",
       "      <th>2</th>\n",
       "      <td>2</td>\n",
       "      <td>LT0001_02</td>\n",
       "      <td>B2</td>\n",
       "      <td>50</td>\n",
       "      <td>26</td>\n",
       "      <td>negative control</td>\n",
       "      <td>negative control</td>\n",
       "      <td>LT0001_02_26</td>\n",
       "      <td>1</td>\n",
       "      <td>1</td>\n",
       "      <td>LT0001_02/LT0001_02_26_50.tif</td>\n",
       "    </tr>\n",
       "    <tr>\n",
       "      <th>3</th>\n",
       "      <td>3</td>\n",
       "      <td>LT0001_02</td>\n",
       "      <td>C1</td>\n",
       "      <td>50</td>\n",
       "      <td>49</td>\n",
       "      <td>positive control</td>\n",
       "      <td>ENSG00000149503</td>\n",
       "      <td>LT0001_02_49</td>\n",
       "      <td>1</td>\n",
       "      <td>1</td>\n",
       "      <td>LT0001_02/LT0001_02_49_50.tif</td>\n",
       "    </tr>\n",
       "    <tr>\n",
       "      <th>4</th>\n",
       "      <td>4</td>\n",
       "      <td>LT0001_02</td>\n",
       "      <td>C4</td>\n",
       "      <td>50</td>\n",
       "      <td>52</td>\n",
       "      <td>positive control</td>\n",
       "      <td>ENSG00000149503</td>\n",
       "      <td>LT0001_02_52</td>\n",
       "      <td>1</td>\n",
       "      <td>1</td>\n",
       "      <td>LT0001_02/LT0001_02_52_50.tif</td>\n",
       "    </tr>\n",
       "    <tr>\n",
       "      <th>...</th>\n",
       "      <td>...</td>\n",
       "      <td>...</td>\n",
       "      <td>...</td>\n",
       "      <td>...</td>\n",
       "      <td>...</td>\n",
       "      <td>...</td>\n",
       "      <td>...</td>\n",
       "      <td>...</td>\n",
       "      <td>...</td>\n",
       "      <td>...</td>\n",
       "      <td>...</td>\n",
       "    </tr>\n",
       "    <tr>\n",
       "      <th>6738</th>\n",
       "      <td>6738</td>\n",
       "      <td>LT0603_06</td>\n",
       "      <td>O13</td>\n",
       "      <td>50</td>\n",
       "      <td>349</td>\n",
       "      <td>positive control</td>\n",
       "      <td>KIF11</td>\n",
       "      <td>LT0603_06_349</td>\n",
       "      <td>1</td>\n",
       "      <td>1</td>\n",
       "      <td>LT0603_06/LT0603_06_349_50.tif</td>\n",
       "    </tr>\n",
       "    <tr>\n",
       "      <th>6739</th>\n",
       "      <td>6739</td>\n",
       "      <td>LT0603_06</td>\n",
       "      <td>O16</td>\n",
       "      <td>50</td>\n",
       "      <td>352</td>\n",
       "      <td>negative control</td>\n",
       "      <td>negative control</td>\n",
       "      <td>LT0603_06_352</td>\n",
       "      <td>1</td>\n",
       "      <td>1</td>\n",
       "      <td>LT0603_06/LT0603_06_352_50.tif</td>\n",
       "    </tr>\n",
       "    <tr>\n",
       "      <th>6740</th>\n",
       "      <td>6740</td>\n",
       "      <td>LT0603_06</td>\n",
       "      <td>P3</td>\n",
       "      <td>50</td>\n",
       "      <td>363</td>\n",
       "      <td>negative control</td>\n",
       "      <td>negative control</td>\n",
       "      <td>LT0603_06_363</td>\n",
       "      <td>1</td>\n",
       "      <td>1</td>\n",
       "      <td>LT0603_06/LT0603_06_363_50.tif</td>\n",
       "    </tr>\n",
       "    <tr>\n",
       "      <th>6741</th>\n",
       "      <td>6741</td>\n",
       "      <td>LT0603_06</td>\n",
       "      <td>P21</td>\n",
       "      <td>50</td>\n",
       "      <td>381</td>\n",
       "      <td>positive control</td>\n",
       "      <td>COPB</td>\n",
       "      <td>LT0603_06_381</td>\n",
       "      <td>1</td>\n",
       "      <td>1</td>\n",
       "      <td>LT0603_06/LT0603_06_381_50.tif</td>\n",
       "    </tr>\n",
       "    <tr>\n",
       "      <th>6742</th>\n",
       "      <td>6742</td>\n",
       "      <td>LT0603_06</td>\n",
       "      <td>P24</td>\n",
       "      <td>50</td>\n",
       "      <td>384</td>\n",
       "      <td>positive control</td>\n",
       "      <td>COPB</td>\n",
       "      <td>LT0603_06_384</td>\n",
       "      <td>1</td>\n",
       "      <td>1</td>\n",
       "      <td>LT0603_06/LT0603_06_384_50.tif</td>\n",
       "    </tr>\n",
       "  </tbody>\n",
       "</table>\n",
       "<p>6743 rows × 11 columns</p>\n",
       "</div>"
      ],
      "text/plain": [
       "      Unnamed: 0      Plate Well  Frames  Well Number      Control Type  \\\n",
       "0              0  LT0001_02   A4      50            4  positive control   \n",
       "1              1  LT0001_02  A15      50           15  negative control   \n",
       "2              2  LT0001_02   B2      50           26  negative control   \n",
       "3              3  LT0001_02   C1      50           49  positive control   \n",
       "4              4  LT0001_02   C4      50           52  positive control   \n",
       "...          ...        ...  ...     ...          ...               ...   \n",
       "6738        6738  LT0603_06  O13      50          349  positive control   \n",
       "6739        6739  LT0603_06  O16      50          352  negative control   \n",
       "6740        6740  LT0603_06   P3      50          363  negative control   \n",
       "6741        6741  LT0603_06  P21      50          381  positive control   \n",
       "6742        6742  LT0603_06  P24      50          384  positive control   \n",
       "\n",
       "     Original Gene Target Plate_Map_Name  Gene_Replicate  Site  \\\n",
       "0         ENSG00000149503    LT0001_02_4               1     1   \n",
       "1        negative control   LT0001_02_15               1     1   \n",
       "2        negative control   LT0001_02_26               1     1   \n",
       "3         ENSG00000149503   LT0001_02_49               1     1   \n",
       "4         ENSG00000149503   LT0001_02_52               1     1   \n",
       "...                   ...            ...             ...   ...   \n",
       "6738                KIF11  LT0603_06_349               1     1   \n",
       "6739     negative control  LT0603_06_352               1     1   \n",
       "6740     negative control  LT0603_06_363               1     1   \n",
       "6741                 COPB  LT0603_06_381               1     1   \n",
       "6742                 COPB  LT0603_06_384               1     1   \n",
       "\n",
       "                                 DNA  \n",
       "0       LT0001_02/LT0001_02_4_50.tif  \n",
       "1      LT0001_02/LT0001_02_15_50.tif  \n",
       "2      LT0001_02/LT0001_02_26_50.tif  \n",
       "3      LT0001_02/LT0001_02_49_50.tif  \n",
       "4      LT0001_02/LT0001_02_52_50.tif  \n",
       "...                              ...  \n",
       "6738  LT0603_06/LT0603_06_349_50.tif  \n",
       "6739  LT0603_06/LT0603_06_352_50.tif  \n",
       "6740  LT0603_06/LT0603_06_363_50.tif  \n",
       "6741  LT0603_06/LT0603_06_381_50.tif  \n",
       "6742  LT0603_06/LT0603_06_384_50.tif  \n",
       "\n",
       "[6743 rows x 11 columns]"
      ]
     },
     "execution_count": 4,
     "metadata": {},
     "output_type": "execute_result"
    }
   ],
   "source": [
    "data_to_process = pd.read_csv(\"example_files/data_to_process.tsv\", sep=\"\\t\")\n",
    "data_to_process"
   ]
  },
  {
   "cell_type": "markdown",
   "metadata": {},
   "source": [
    "## Initialize Aspera downloader"
   ]
  },
  {
   "cell_type": "code",
   "execution_count": 5,
   "metadata": {},
   "outputs": [],
   "source": [
    "# find the path in terminal using `ascli config ascp show`\n",
    "aspera_path = pathlib.Path(\"/home/jenna/.aspera/ascli/sdk/ascp\")\n",
    "aspera_key_path = pathlib.Path(\"example_files/asperaweb_id_dsa.openssh\")\n",
    "screens_path = pathlib.Path(\"example_files/idr0013-screenA-plates.tsv\")\n",
    "\n",
    "stream.init_downloader(aspera_path, aspera_key_path, screens_path)"
   ]
  },
  {
   "cell_type": "markdown",
   "metadata": {},
   "source": [
    "## Initialize Fiji preprocessor"
   ]
  },
  {
   "cell_type": "code",
   "execution_count": 6,
   "metadata": {},
   "outputs": [],
   "source": [
    "fiji_path = pathlib.Path(\"/home/jenna/Desktop/test/Fiji.app\")\n",
    "stream.init_preprocessor(fiji_path)"
   ]
  },
  {
   "cell_type": "markdown",
   "metadata": {},
   "source": [
    "## Copy and create CellProfiler files/folders"
   ]
  },
  {
   "cell_type": "code",
   "execution_count": 7,
   "metadata": {},
   "outputs": [],
   "source": [
    "metadata_path = pathlib.Path(\"example_files/data_to_process.csv\")\n",
    "stream.copy_CP_files(metadata_path)"
   ]
  },
  {
   "cell_type": "markdown",
   "metadata": {},
   "source": [
    "## Confirm that GPU is activated for Cellpose to run"
   ]
  },
  {
   "cell_type": "code",
   "execution_count": 8,
   "metadata": {},
   "outputs": [
    {
     "name": "stdout",
     "output_type": "stream",
     "text": [
      ">>> GPU activated? 1\n"
     ]
    }
   ],
   "source": [
    "use_GPU = core.use_gpu()\n",
    "print(\">>> GPU activated? %d\" % use_GPU)\n",
    "# logger_setup()"
   ]
  },
  {
   "cell_type": "markdown",
   "metadata": {},
   "source": [
    "## Run idrstream batches"
   ]
  },
  {
   "cell_type": "code",
   "execution_count": 9,
   "metadata": {},
   "outputs": [
    {
     "name": "stdout",
     "output_type": "stream",
     "text": [
      "Completed: 75739K bytes transferred in 3 seconds\n",
      " (187601K bits/sec), in 1 file.\n",
      "CellH5Reader initializing /home/jenna/Desktop/Github/IDR_stream/tmp/downloads/LT0001_02/00004_01.ch5\n",
      "Plate :/sample/0/plate/\n",
      "Well :/sample/0/plate/LT0001_02--ex2005_11_16--sp2005_02_17--tt17--c3/experiment/\n",
      "Site :/sample/0/plate/LT0001_02--ex2005_11_16--sp2005_02_17--tt17--c3/experiment/00004/position/\n",
      "Parse segmentation ROIs for cell object primary__test : 0\n",
      "Completed: 87703K bytes transferred in 6 seconds\n",
      " (115840K bits/sec), in 1 file.\n",
      "CellH5Reader initializing /home/jenna/Desktop/Github/IDR_stream/tmp/downloads/LT0001_02/00015_01.ch5\n",
      "Plate :/sample/0/plate/\n",
      "Well :/sample/0/plate/LT0001_02--ex2005_11_16--sp2005_02_17--tt17--c3/experiment/\n",
      "Site :/sample/0/plate/LT0001_02--ex2005_11_16--sp2005_02_17--tt17--c3/experiment/00015/position/\n",
      "Parse segmentation ROIs for cell object primary__test : 0\n",
      "Completed: 74464K bytes transferred in 3 seconds\n",
      " (196500K bits/sec), in 1 file.\n",
      "CellH5Reader initializing /home/jenna/Desktop/Github/IDR_stream/tmp/downloads/LT0001_02/00026_01.ch5\n",
      "Plate :/sample/0/plate/\n",
      "Well :/sample/0/plate/LT0001_02--ex2005_11_16--sp2005_02_17--tt17--c3/experiment/\n",
      "Site :/sample/0/plate/LT0001_02--ex2005_11_16--sp2005_02_17--tt17--c3/experiment/00026/position/\n",
      "Parse segmentation ROIs for cell object primary__test : 0\n"
     ]
    },
    {
     "name": "stderr",
     "output_type": "stream",
     "text": [
      "Times reported are CPU and Wall-clock times for each module\n",
      "Fri Dec 16 13:16:20 2022: Image # 1, module Images # 1: CPU_time = 0.00 secs, Wall_time = 0.00 secs\n",
      "Fri Dec 16 13:16:20 2022: Image # 1, module Metadata # 2: CPU_time = 0.00 secs, Wall_time = 0.00 secs\n",
      "Fri Dec 16 13:16:20 2022: Image # 1, module NamesAndTypes # 3: CPU_time = 0.47 secs, Wall_time = 0.12 secs\n",
      "Fri Dec 16 13:16:20 2022: Image # 1, module Groups # 4: CPU_time = 0.00 secs, Wall_time = 0.00 secs\n",
      "** TORCH CUDA version installed and working. **\n",
      ">>>> using GPU\n",
      ">> cyto << model set to be used\n",
      ">>>> model diam_mean =  30.000 (ROIs rescaled to this size during training)\n",
      "~~~ ESTIMATING CELL DIAMETER(S) ~~~\n",
      "estimated cell diameter(s) in 3.87 sec\n",
      ">>> diameter(s) = \n",
      "[ 27.64 ]\n",
      "~~~ FINDING MASKS ~~~\n",
      ">>>> TOTAL TIME 4.61 sec\n",
      "Fri Dec 16 13:16:20 2022: Image # 1, module RunCellpose # 5: CPU_time = 5.71 secs, Wall_time = 5.58 secs\n",
      "/home/jenna/anaconda3/envs/idrstream_cp/lib/python3.8/site-packages/cellprofiler/modules/measuregranularity.py:342: FutureWarning: `selem` is a deprecated argument name for `erosion`. It will be removed in version 1.0. Please use `footprint` instead.\n",
      "  back_pixels = skimage.morphology.erosion(back_pixels_mask, selem=selem)\n",
      "/home/jenna/anaconda3/envs/idrstream_cp/lib/python3.8/site-packages/cellprofiler/modules/measuregranularity.py:345: FutureWarning: `selem` is a deprecated argument name for `dilation`. It will be removed in version 1.0. Please use `footprint` instead.\n",
      "  back_pixels = skimage.morphology.dilation(back_pixels_mask, selem=selem)\n",
      "/home/jenna/anaconda3/envs/idrstream_cp/lib/python3.8/site-packages/cellprofiler/modules/measuregranularity.py:424: FutureWarning: `selem` is a deprecated argument name for `erosion`. It will be removed in version 1.0. Please use `footprint` instead.\n",
      "  ero = skimage.morphology.erosion(ero_mask, selem=footprint)\n",
      "/home/jenna/anaconda3/envs/idrstream_cp/lib/python3.8/site-packages/cellprofiler/modules/measuregranularity.py:425: FutureWarning: `selem` is a deprecated argument name for `reconstruction`. It will be removed in version 1.0. Please use `footprint` instead.\n",
      "  rec = skimage.morphology.reconstruction(ero, pixels, selem=footprint)\n",
      "Fri Dec 16 13:16:26 2022: Image # 1, module MeasureGranularity # 6: CPU_time = 1.22 secs, Wall_time = 1.23 secs\n",
      "Fri Dec 16 13:16:27 2022: Image # 1, module MeasureObjectIntensity # 7: CPU_time = 0.12 secs, Wall_time = 0.12 secs\n",
      "Fri Dec 16 13:16:27 2022: Image # 1, module MeasureImageIntensity # 8: CPU_time = 0.01 secs, Wall_time = 0.01 secs\n",
      "Fri Dec 16 13:16:27 2022: Image # 1, module MeasureObjectNeighbors # 9: CPU_time = 0.25 secs, Wall_time = 0.25 secs\n",
      "Fri Dec 16 13:16:27 2022: Image # 1, module MeasureObjectIntensityDistribution # 10: CPU_time = 0.41 secs, Wall_time = 0.41 secs\n",
      "Fri Dec 16 13:16:28 2022: Image # 1, module MeasureObjectSizeShape # 11: CPU_time = 3.08 secs, Wall_time = 1.24 secs\n",
      "Fri Dec 16 13:16:29 2022: Image # 1, module MeasureTexture # 12: CPU_time = 2.77 secs, Wall_time = 0.37 secs\n",
      "Fri Dec 16 13:16:30 2022: Image # 1, module ExportToSpreadsheet # 13: CPU_time = 0.00 secs, Wall_time = 0.00 secs\n",
      "Fri Dec 16 13:16:30 2022: Image # 2, module Images # 1: CPU_time = 0.00 secs, Wall_time = 0.00 secs\n",
      "Fri Dec 16 13:16:30 2022: Image # 2, module Metadata # 2: CPU_time = 0.00 secs, Wall_time = 0.00 secs\n",
      "Fri Dec 16 13:16:30 2022: Image # 2, module NamesAndTypes # 3: CPU_time = 0.57 secs, Wall_time = 0.06 secs\n",
      "Fri Dec 16 13:16:30 2022: Image # 2, module Groups # 4: CPU_time = 0.00 secs, Wall_time = 0.00 secs\n",
      "** TORCH CUDA version installed and working. **\n",
      ">>>> using GPU\n",
      ">> cyto << model set to be used\n",
      ">>>> model diam_mean =  30.000 (ROIs rescaled to this size during training)\n",
      "~~~ ESTIMATING CELL DIAMETER(S) ~~~\n",
      "estimated cell diameter(s) in 2.25 sec\n",
      ">>> diameter(s) = \n",
      "[ 26.77 ]\n",
      "~~~ FINDING MASKS ~~~\n",
      ">>>> TOTAL TIME 2.99 sec\n",
      "Fri Dec 16 13:16:30 2022: Image # 2, module RunCellpose # 5: CPU_time = 3.95 secs, Wall_time = 3.18 secs\n",
      "Fri Dec 16 13:16:33 2022: Image # 2, module MeasureGranularity # 6: CPU_time = 1.23 secs, Wall_time = 1.24 secs\n",
      "Fri Dec 16 13:16:34 2022: Image # 2, module MeasureObjectIntensity # 7: CPU_time = 0.10 secs, Wall_time = 0.10 secs\n",
      "Fri Dec 16 13:16:34 2022: Image # 2, module MeasureImageIntensity # 8: CPU_time = 0.01 secs, Wall_time = 0.01 secs\n",
      "Fri Dec 16 13:16:34 2022: Image # 2, module MeasureObjectNeighbors # 9: CPU_time = 0.24 secs, Wall_time = 0.24 secs\n",
      "Fri Dec 16 13:16:34 2022: Image # 2, module MeasureObjectIntensityDistribution # 10: CPU_time = 0.39 secs, Wall_time = 0.39 secs\n",
      "Fri Dec 16 13:16:35 2022: Image # 2, module MeasureObjectSizeShape # 11: CPU_time = 2.80 secs, Wall_time = 1.11 secs\n",
      "Fri Dec 16 13:16:36 2022: Image # 2, module MeasureTexture # 12: CPU_time = 2.51 secs, Wall_time = 0.34 secs\n",
      "Fri Dec 16 13:16:36 2022: Image # 2, module ExportToSpreadsheet # 13: CPU_time = 0.00 secs, Wall_time = 0.00 secs\n",
      "Fri Dec 16 13:16:36 2022: Image # 3, module Images # 1: CPU_time = 0.00 secs, Wall_time = 0.00 secs\n",
      "Fri Dec 16 13:16:36 2022: Image # 3, module Metadata # 2: CPU_time = 0.00 secs, Wall_time = 0.00 secs\n",
      "Fri Dec 16 13:16:36 2022: Image # 3, module NamesAndTypes # 3: CPU_time = 0.58 secs, Wall_time = 0.05 secs\n",
      "Fri Dec 16 13:16:36 2022: Image # 3, module Groups # 4: CPU_time = 0.00 secs, Wall_time = 0.00 secs\n",
      "** TORCH CUDA version installed and working. **\n",
      ">>>> using GPU\n",
      ">> cyto << model set to be used\n",
      ">>>> model diam_mean =  30.000 (ROIs rescaled to this size during training)\n",
      "~~~ ESTIMATING CELL DIAMETER(S) ~~~\n",
      "estimated cell diameter(s) in 2.27 sec\n",
      ">>> diameter(s) = \n",
      "[ 25.63 ]\n",
      "~~~ FINDING MASKS ~~~\n",
      ">>>> TOTAL TIME 3.02 sec\n",
      "Fri Dec 16 13:16:36 2022: Image # 3, module RunCellpose # 5: CPU_time = 4.05 secs, Wall_time = 3.22 secs\n",
      "Fri Dec 16 13:16:39 2022: Image # 3, module MeasureGranularity # 6: CPU_time = 1.23 secs, Wall_time = 1.23 secs\n",
      "Fri Dec 16 13:16:41 2022: Image # 3, module MeasureObjectIntensity # 7: CPU_time = 0.11 secs, Wall_time = 0.10 secs\n",
      "Fri Dec 16 13:16:41 2022: Image # 3, module MeasureImageIntensity # 8: CPU_time = 0.01 secs, Wall_time = 0.01 secs\n",
      "Fri Dec 16 13:16:41 2022: Image # 3, module MeasureObjectNeighbors # 9: CPU_time = 0.24 secs, Wall_time = 0.24 secs\n",
      "Fri Dec 16 13:16:41 2022: Image # 3, module MeasureObjectIntensityDistribution # 10: CPU_time = 0.39 secs, Wall_time = 0.39 secs\n",
      "Fri Dec 16 13:16:41 2022: Image # 3, module MeasureObjectSizeShape # 11: CPU_time = 2.89 secs, Wall_time = 1.15 secs\n",
      "Fri Dec 16 13:16:43 2022: Image # 3, module MeasureTexture # 12: CPU_time = 2.71 secs, Wall_time = 0.37 secs\n",
      "Fri Dec 16 13:16:43 2022: Image # 3, module ExportToSpreadsheet # 13: CPU_time = 0.00 secs, Wall_time = 0.00 secs\n"
     ]
    }
   ],
   "source": [
    "stream.run_cp_stream(data_to_process, batch_size=3, start_batch=0, batch_nums=[0])"
   ]
  }
 ],
 "metadata": {
  "kernelspec": {
   "display_name": "Python 3.8.13 ('idrstream_cp')",
   "language": "python",
   "name": "python3"
  },
  "language_info": {
   "codemirror_mode": {
    "name": "ipython",
    "version": 3
   },
   "file_extension": ".py",
   "mimetype": "text/x-python",
   "name": "python",
   "nbconvert_exporter": "python",
   "pygments_lexer": "ipython3",
   "version": "3.8.13"
  },
  "orig_nbformat": 4,
  "vscode": {
   "interpreter": {
    "hash": "293e2d92c37ac7b8bc45d856b73f71c94f14d1d99e7470b850dc25d0270fce15"
   }
  }
 },
 "nbformat": 4,
 "nbformat_minor": 2
}
