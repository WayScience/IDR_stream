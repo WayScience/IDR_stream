{
 "cells": [
  {
   "cell_type": "code",
   "execution_count": 1,
   "metadata": {},
   "outputs": [],
   "source": [
    "import pathlib\n",
    "import pandas as pd\n",
    "import shutil\n",
    "import logging\n",
    "\n",
    "from idrstream.idr_stream import IdrStream"
   ]
  },
  {
   "cell_type": "code",
   "execution_count": 2,
   "metadata": {},
   "outputs": [
    {
     "data": {
      "text/html": [
       "<div>\n",
       "<style scoped>\n",
       "    .dataframe tbody tr th:only-of-type {\n",
       "        vertical-align: middle;\n",
       "    }\n",
       "\n",
       "    .dataframe tbody tr th {\n",
       "        vertical-align: top;\n",
       "    }\n",
       "\n",
       "    .dataframe thead th {\n",
       "        text-align: right;\n",
       "    }\n",
       "</style>\n",
       "<table border=\"1\" class=\"dataframe\">\n",
       "  <thead>\n",
       "    <tr style=\"text-align: right;\">\n",
       "      <th></th>\n",
       "      <th>Plate</th>\n",
       "      <th>Well</th>\n",
       "      <th>Frames</th>\n",
       "      <th>Well Number</th>\n",
       "      <th>Control Type</th>\n",
       "      <th>Original Gene Target</th>\n",
       "    </tr>\n",
       "  </thead>\n",
       "  <tbody>\n",
       "    <tr>\n",
       "      <th>0</th>\n",
       "      <td>LT0001_02</td>\n",
       "      <td>A4</td>\n",
       "      <td>50</td>\n",
       "      <td>4</td>\n",
       "      <td>positive control</td>\n",
       "      <td>ENSG00000149503</td>\n",
       "    </tr>\n",
       "    <tr>\n",
       "      <th>1</th>\n",
       "      <td>LT0001_02</td>\n",
       "      <td>A15</td>\n",
       "      <td>50</td>\n",
       "      <td>15</td>\n",
       "      <td>negative control</td>\n",
       "      <td>negative control</td>\n",
       "    </tr>\n",
       "    <tr>\n",
       "      <th>2</th>\n",
       "      <td>LT0001_02</td>\n",
       "      <td>B2</td>\n",
       "      <td>50</td>\n",
       "      <td>26</td>\n",
       "      <td>negative control</td>\n",
       "      <td>negative control</td>\n",
       "    </tr>\n",
       "    <tr>\n",
       "      <th>3</th>\n",
       "      <td>LT0001_02</td>\n",
       "      <td>C1</td>\n",
       "      <td>50</td>\n",
       "      <td>49</td>\n",
       "      <td>positive control</td>\n",
       "      <td>ENSG00000149503</td>\n",
       "    </tr>\n",
       "    <tr>\n",
       "      <th>4</th>\n",
       "      <td>LT0001_02</td>\n",
       "      <td>C4</td>\n",
       "      <td>50</td>\n",
       "      <td>52</td>\n",
       "      <td>positive control</td>\n",
       "      <td>ENSG00000149503</td>\n",
       "    </tr>\n",
       "    <tr>\n",
       "      <th>...</th>\n",
       "      <td>...</td>\n",
       "      <td>...</td>\n",
       "      <td>...</td>\n",
       "      <td>...</td>\n",
       "      <td>...</td>\n",
       "      <td>...</td>\n",
       "    </tr>\n",
       "    <tr>\n",
       "      <th>6738</th>\n",
       "      <td>LT0603_06</td>\n",
       "      <td>O13</td>\n",
       "      <td>50</td>\n",
       "      <td>349</td>\n",
       "      <td>positive control</td>\n",
       "      <td>KIF11</td>\n",
       "    </tr>\n",
       "    <tr>\n",
       "      <th>6739</th>\n",
       "      <td>LT0603_06</td>\n",
       "      <td>O16</td>\n",
       "      <td>50</td>\n",
       "      <td>352</td>\n",
       "      <td>negative control</td>\n",
       "      <td>negative control</td>\n",
       "    </tr>\n",
       "    <tr>\n",
       "      <th>6740</th>\n",
       "      <td>LT0603_06</td>\n",
       "      <td>P3</td>\n",
       "      <td>50</td>\n",
       "      <td>363</td>\n",
       "      <td>negative control</td>\n",
       "      <td>negative control</td>\n",
       "    </tr>\n",
       "    <tr>\n",
       "      <th>6741</th>\n",
       "      <td>LT0603_06</td>\n",
       "      <td>P21</td>\n",
       "      <td>50</td>\n",
       "      <td>381</td>\n",
       "      <td>positive control</td>\n",
       "      <td>COPB</td>\n",
       "    </tr>\n",
       "    <tr>\n",
       "      <th>6742</th>\n",
       "      <td>LT0603_06</td>\n",
       "      <td>P24</td>\n",
       "      <td>50</td>\n",
       "      <td>384</td>\n",
       "      <td>positive control</td>\n",
       "      <td>COPB</td>\n",
       "    </tr>\n",
       "  </tbody>\n",
       "</table>\n",
       "<p>6743 rows × 6 columns</p>\n",
       "</div>"
      ],
      "text/plain": [
       "          Plate Well  Frames  Well Number      Control Type  \\\n",
       "0     LT0001_02   A4      50            4  positive control   \n",
       "1     LT0001_02  A15      50           15  negative control   \n",
       "2     LT0001_02   B2      50           26  negative control   \n",
       "3     LT0001_02   C1      50           49  positive control   \n",
       "4     LT0001_02   C4      50           52  positive control   \n",
       "...         ...  ...     ...          ...               ...   \n",
       "6738  LT0603_06  O13      50          349  positive control   \n",
       "6739  LT0603_06  O16      50          352  negative control   \n",
       "6740  LT0603_06   P3      50          363  negative control   \n",
       "6741  LT0603_06  P21      50          381  positive control   \n",
       "6742  LT0603_06  P24      50          384  positive control   \n",
       "\n",
       "     Original Gene Target  \n",
       "0         ENSG00000149503  \n",
       "1        negative control  \n",
       "2        negative control  \n",
       "3         ENSG00000149503  \n",
       "4         ENSG00000149503  \n",
       "...                   ...  \n",
       "6738                KIF11  \n",
       "6739     negative control  \n",
       "6740     negative control  \n",
       "6741                 COPB  \n",
       "6742                 COPB  \n",
       "\n",
       "[6743 rows x 6 columns]"
      ]
     },
     "execution_count": 2,
     "metadata": {},
     "output_type": "execute_result"
    }
   ],
   "source": [
    "data_to_process = pd.read_csv(\"example_files/data_to_process.tsv\", sep=\"\\t\", index_col=0)\n",
    "# remove A1 wells because of irregular illumination\n",
    "data_to_process = data_to_process[data_to_process[\"Well\"] != \"A1\"]\n",
    "data_to_process = data_to_process.reset_index(drop=True)\n",
    "data_to_process"
   ]
  },
  {
   "cell_type": "code",
   "execution_count": 3,
   "metadata": {},
   "outputs": [
    {
     "name": "stdout",
     "output_type": "stream",
     "text": [
      "No files to remove\n"
     ]
    }
   ],
   "source": [
    "idr_id = \"idr0013\"\n",
    "tmp_dir = pathlib.Path(\"tmp/\")\n",
    "final_data_dir = pathlib.Path(\"mitocheck_control_features/\")\n",
    "try:\n",
    "    shutil.rmtree(tmp_dir)\n",
    "    # shutil.rmtree(final_data_dir)\n",
    "    pass\n",
    "except:\n",
    "    print(\"No files to remove\")\n",
    "\n",
    "stream = IdrStream(idr_id, tmp_dir, final_data_dir, log='idr_stream.log')"
   ]
  },
  {
   "cell_type": "code",
   "execution_count": 4,
   "metadata": {},
   "outputs": [],
   "source": [
    "aspera_path = pathlib.Path(\"/home/roshankern/.aspera/ascli/sdk/ascp\")\n",
    "aspera_key_path = pathlib.Path(\"example_files/asperaweb_id_dsa.openssh\")\n",
    "screens_path = pathlib.Path(\"example_files/idr0013-screenA-plates.tsv\")\n",
    "save_dir = pathlib.Path(\"data/\")\n",
    "\n",
    "stream.init_downloader(aspera_path, aspera_key_path, screens_path)"
   ]
  },
  {
   "cell_type": "code",
   "execution_count": 5,
   "metadata": {},
   "outputs": [
    {
     "name": "stdout",
     "output_type": "stream",
     "text": [
      "[INFO] Overriding Leica ROI Reader; identifier: command:de.biovoxxel.utilities.RoiReader; jar: file:/home/roshankern/Desktop/Github/IDR_stream_prototype/preprocess_data/Fiji.app/plugins/Biovoxxel_Plugins-2.5.6.jar\n"
     ]
    },
    {
     "name": "stderr",
     "output_type": "stream",
     "text": [
      "[ERROR] Cannot create plugin: org.scijava.plugins.scripting.javascript.JavaScriptScriptLanguage\n"
     ]
    }
   ],
   "source": [
    "fiji_path = pathlib.Path(\"/home/roshankern/Desktop/Github/IDR_stream_prototype/preprocess_data/Fiji.app\")\n",
    "stream.init_preprocessor(fiji_path)"
   ]
  },
  {
   "cell_type": "code",
   "execution_count": 6,
   "metadata": {},
   "outputs": [
    {
     "name": "stdout",
     "output_type": "stream",
     "text": [
      ">>> GPU activated? 1\n"
     ]
    }
   ],
   "source": [
    "nuclei_model_specs = {\n",
    "            \"model_type\": \"cyto\",\n",
    "            \"channels\": [0, 0],\n",
    "            \"diameter\": 0,\n",
    "            \"flow_threshold\": 0.8,\n",
    "            \"cellprob_threshold\": 0,\n",
    "            \"remove_edge_masks\": True,\n",
    "        }\n",
    "stream.init_segmentor(nuclei_model_specs)"
   ]
  },
  {
   "cell_type": "code",
   "execution_count": 7,
   "metadata": {},
   "outputs": [],
   "source": [
    "config_path = pathlib.Path(\"example_files/DP_files/mitocheck_profiling_config.json\")\n",
    "checkpoint_path = pathlib.Path(\"example_files/DP_files/efficientnet-b0_weights_tf_dim_ordering_tf_kernels_autoaugment.h5\")\n",
    "stream.copy_DP_files(config_path, checkpoint_path)"
   ]
  },
  {
   "cell_type": "code",
   "execution_count": null,
   "metadata": {},
   "outputs": [],
   "source": [
    "stream.run_stream(data_to_process, batch_size=3, start_batch=0)"
   ]
  }
 ],
 "metadata": {
  "kernelspec": {
   "display_name": "Python 3.8.13 ('IDR_stream')",
   "language": "python",
   "name": "python3"
  },
  "language_info": {
   "codemirror_mode": {
    "name": "ipython",
    "version": 3
   },
   "file_extension": ".py",
   "mimetype": "text/x-python",
   "name": "python",
   "nbconvert_exporter": "python",
   "pygments_lexer": "ipython3",
   "version": "3.8.13"
  },
  "orig_nbformat": 4,
  "vscode": {
   "interpreter": {
    "hash": "8670c1752d8b30f6b79110f3a7164fbb604e53a48b4190f3b3261fda6dff5a4e"
   }
  }
 },
 "nbformat": 4,
 "nbformat_minor": 2
}
