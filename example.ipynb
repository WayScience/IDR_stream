{
 "cells": [
  {
   "cell_type": "code",
   "execution_count": 1,
   "metadata": {},
   "outputs": [],
   "source": [
    "import pathlib\n",
    "import pandas as pd\n",
    "import shutil\n",
    "import logging\n",
    "\n",
    "from idrstream.idr_stream import IdrStream"
   ]
  },
  {
   "cell_type": "code",
   "execution_count": 2,
   "metadata": {},
   "outputs": [
    {
     "data": {
      "text/html": [
       "<div>\n",
       "<style scoped>\n",
       "    .dataframe tbody tr th:only-of-type {\n",
       "        vertical-align: middle;\n",
       "    }\n",
       "\n",
       "    .dataframe tbody tr th {\n",
       "        vertical-align: top;\n",
       "    }\n",
       "\n",
       "    .dataframe thead th {\n",
       "        text-align: right;\n",
       "    }\n",
       "</style>\n",
       "<table border=\"1\" class=\"dataframe\">\n",
       "  <thead>\n",
       "    <tr style=\"text-align: right;\">\n",
       "      <th></th>\n",
       "      <th>Plate</th>\n",
       "      <th>Well</th>\n",
       "      <th>Frames</th>\n",
       "      <th>Well Number</th>\n",
       "      <th>Control Type</th>\n",
       "      <th>Original Gene Target</th>\n",
       "    </tr>\n",
       "  </thead>\n",
       "  <tbody>\n",
       "    <tr>\n",
       "      <th>0</th>\n",
       "      <td>LT0001_02</td>\n",
       "      <td>A4</td>\n",
       "      <td>50</td>\n",
       "      <td>4</td>\n",
       "      <td>positive control</td>\n",
       "      <td>ENSG00000149503</td>\n",
       "    </tr>\n",
       "    <tr>\n",
       "      <th>1</th>\n",
       "      <td>LT0001_02</td>\n",
       "      <td>A15</td>\n",
       "      <td>50</td>\n",
       "      <td>15</td>\n",
       "      <td>negative control</td>\n",
       "      <td>negative control</td>\n",
       "    </tr>\n",
       "    <tr>\n",
       "      <th>2</th>\n",
       "      <td>LT0001_02</td>\n",
       "      <td>B2</td>\n",
       "      <td>50</td>\n",
       "      <td>26</td>\n",
       "      <td>negative control</td>\n",
       "      <td>negative control</td>\n",
       "    </tr>\n",
       "    <tr>\n",
       "      <th>3</th>\n",
       "      <td>LT0001_02</td>\n",
       "      <td>C1</td>\n",
       "      <td>50</td>\n",
       "      <td>49</td>\n",
       "      <td>positive control</td>\n",
       "      <td>ENSG00000149503</td>\n",
       "    </tr>\n",
       "    <tr>\n",
       "      <th>4</th>\n",
       "      <td>LT0001_02</td>\n",
       "      <td>C4</td>\n",
       "      <td>50</td>\n",
       "      <td>52</td>\n",
       "      <td>positive control</td>\n",
       "      <td>ENSG00000149503</td>\n",
       "    </tr>\n",
       "    <tr>\n",
       "      <th>...</th>\n",
       "      <td>...</td>\n",
       "      <td>...</td>\n",
       "      <td>...</td>\n",
       "      <td>...</td>\n",
       "      <td>...</td>\n",
       "      <td>...</td>\n",
       "    </tr>\n",
       "    <tr>\n",
       "      <th>6738</th>\n",
       "      <td>LT0603_06</td>\n",
       "      <td>O13</td>\n",
       "      <td>50</td>\n",
       "      <td>349</td>\n",
       "      <td>positive control</td>\n",
       "      <td>KIF11</td>\n",
       "    </tr>\n",
       "    <tr>\n",
       "      <th>6739</th>\n",
       "      <td>LT0603_06</td>\n",
       "      <td>O16</td>\n",
       "      <td>50</td>\n",
       "      <td>352</td>\n",
       "      <td>negative control</td>\n",
       "      <td>negative control</td>\n",
       "    </tr>\n",
       "    <tr>\n",
       "      <th>6740</th>\n",
       "      <td>LT0603_06</td>\n",
       "      <td>P3</td>\n",
       "      <td>50</td>\n",
       "      <td>363</td>\n",
       "      <td>negative control</td>\n",
       "      <td>negative control</td>\n",
       "    </tr>\n",
       "    <tr>\n",
       "      <th>6741</th>\n",
       "      <td>LT0603_06</td>\n",
       "      <td>P21</td>\n",
       "      <td>50</td>\n",
       "      <td>381</td>\n",
       "      <td>positive control</td>\n",
       "      <td>COPB</td>\n",
       "    </tr>\n",
       "    <tr>\n",
       "      <th>6742</th>\n",
       "      <td>LT0603_06</td>\n",
       "      <td>P24</td>\n",
       "      <td>50</td>\n",
       "      <td>384</td>\n",
       "      <td>positive control</td>\n",
       "      <td>COPB</td>\n",
       "    </tr>\n",
       "  </tbody>\n",
       "</table>\n",
       "<p>6743 rows × 6 columns</p>\n",
       "</div>"
      ],
      "text/plain": [
       "          Plate Well  Frames  Well Number      Control Type  \\\n",
       "0     LT0001_02   A4      50            4  positive control   \n",
       "1     LT0001_02  A15      50           15  negative control   \n",
       "2     LT0001_02   B2      50           26  negative control   \n",
       "3     LT0001_02   C1      50           49  positive control   \n",
       "4     LT0001_02   C4      50           52  positive control   \n",
       "...         ...  ...     ...          ...               ...   \n",
       "6738  LT0603_06  O13      50          349  positive control   \n",
       "6739  LT0603_06  O16      50          352  negative control   \n",
       "6740  LT0603_06   P3      50          363  negative control   \n",
       "6741  LT0603_06  P21      50          381  positive control   \n",
       "6742  LT0603_06  P24      50          384  positive control   \n",
       "\n",
       "     Original Gene Target  \n",
       "0         ENSG00000149503  \n",
       "1        negative control  \n",
       "2        negative control  \n",
       "3         ENSG00000149503  \n",
       "4         ENSG00000149503  \n",
       "...                   ...  \n",
       "6738                KIF11  \n",
       "6739     negative control  \n",
       "6740     negative control  \n",
       "6741                 COPB  \n",
       "6742                 COPB  \n",
       "\n",
       "[6743 rows x 6 columns]"
      ]
     },
     "execution_count": 2,
     "metadata": {},
     "output_type": "execute_result"
    }
   ],
   "source": [
    "data_to_process = pd.read_csv(\"example_files/data_to_process.tsv\", sep=\"\\t\", index_col=0)\n",
    "# remove A1 wells because of irregular illumination\n",
    "data_to_process = data_to_process[data_to_process[\"Well\"] != \"A1\"]\n",
    "data_to_process = data_to_process.reset_index(drop=True)\n",
    "data_to_process"
   ]
  },
  {
   "cell_type": "code",
   "execution_count": 3,
   "metadata": {},
   "outputs": [],
   "source": [
    "idr_id = \"idr0013\"\n",
    "tmp_dir = pathlib.Path(\"tmp/\")\n",
    "final_data_dir = pathlib.Path(\"mitocheck_control_features/\")\n",
    "try:\n",
    "    shutil.rmtree(tmp_dir)\n",
    "    #shutil.rmtree(final_data_dir)\n",
    "except:\n",
    "    print(\"No files to remove\")\n",
    "\n",
    "stream = IdrStream(idr_id, tmp_dir, final_data_dir, log='example_files/idr_stream.log')"
   ]
  },
  {
   "cell_type": "code",
   "execution_count": 4,
   "metadata": {},
   "outputs": [],
   "source": [
    "aspera_path = pathlib.Path(\"/home/roshankern/.aspera/ascli/sdk/ascp\")\n",
    "aspera_key_path = pathlib.Path(\"example_files/asperaweb_id_dsa.openssh\")\n",
    "screens_path = pathlib.Path(\"example_files/idr0013-screenA-plates.tsv\")\n",
    "save_dir = pathlib.Path(\"data/\")\n",
    "\n",
    "stream.init_downloader(aspera_path, aspera_key_path, screens_path)"
   ]
  },
  {
   "cell_type": "code",
   "execution_count": 5,
   "metadata": {},
   "outputs": [
    {
     "name": "stdout",
     "output_type": "stream",
     "text": [
      "[INFO] Overriding Leica ROI Reader; identifier: command:de.biovoxxel.utilities.RoiReader; jar: file:/home/roshankern/Desktop/Github/IDR_stream_prototype/preprocess_data/Fiji.app/plugins/Biovoxxel_Plugins-2.5.6.jar\n"
     ]
    },
    {
     "name": "stderr",
     "output_type": "stream",
     "text": [
      "[ERROR] Cannot create plugin: org.scijava.plugins.scripting.javascript.JavaScriptScriptLanguage\n"
     ]
    }
   ],
   "source": [
    "fiji_path = pathlib.Path(\"/home/roshankern/Desktop/Github/IDR_stream_prototype/preprocess_data/Fiji.app\")\n",
    "stream.init_preprocessor(fiji_path)"
   ]
  },
  {
   "cell_type": "code",
   "execution_count": 6,
   "metadata": {},
   "outputs": [
    {
     "name": "stdout",
     "output_type": "stream",
     "text": [
      ">>> GPU activated? 1\n"
     ]
    }
   ],
   "source": [
    "nuclei_model_specs = {\n",
    "            \"model_type\": \"cyto\",\n",
    "            \"channels\": [0, 0],\n",
    "            \"diameter\": 0,\n",
    "            \"flow_threshold\": 0.8,\n",
    "            \"cellprob_threshold\": 0,\n",
    "            \"remove_edge_masks\": True,\n",
    "        }\n",
    "stream.init_segmentor(nuclei_model_specs)"
   ]
  },
  {
   "cell_type": "code",
   "execution_count": 7,
   "metadata": {},
   "outputs": [],
   "source": [
    "config_path = pathlib.Path(\"example_files/DP_files/mitocheck_profiling_config.json\")\n",
    "checkpoint_path = pathlib.Path(\"example_files/DP_files/efficientnet-b0_weights_tf_dim_ordering_tf_kernels_autoaugment.h5\")\n",
    "stream.copy_DP_files(config_path, checkpoint_path)"
   ]
  },
  {
   "cell_type": "code",
   "execution_count": 8,
   "metadata": {},
   "outputs": [
    {
     "name": "stdout",
     "output_type": "stream",
     "text": [
      "Completed: 83163K bytes transferred in 3 seconds\n",
      " (217322K bits/sec), in 1 file.\n",
      "CellH5Reader initializing /home/roshankern/Desktop/Github/IDR_stream/tmp/downloads/LT0001_09/00004_01.ch5\n",
      "Plate :/sample/0/plate/\n",
      "Well :/sample/0/plate/LT0001_09--ex2005_11_16--sp2005_02_17--tt17--c5/experiment/\n",
      "Site :/sample/0/plate/LT0001_09--ex2005_11_16--sp2005_02_17--tt17--c5/experiment/00004/position/\n",
      "Parse segmentation ROIs for cell object primary__test : 0\n"
     ]
    },
    {
     "ename": "KeyboardInterrupt",
     "evalue": "",
     "output_type": "error",
     "traceback": [
      "\u001b[0;31m---------------------------------------------------------------------------\u001b[0m",
      "\u001b[0;31mKeyboardInterrupt\u001b[0m                         Traceback (most recent call last)",
      "\u001b[1;32m/home/roshankern/Desktop/Github/IDR_stream/example.ipynb Cell 9\u001b[0m in \u001b[0;36m<cell line: 1>\u001b[0;34m()\u001b[0m\n\u001b[0;32m----> <a href='vscode-notebook-cell:/home/roshankern/Desktop/Github/IDR_stream/example.ipynb#X10sZmlsZQ%3D%3D?line=0'>1</a>\u001b[0m stream\u001b[39m.\u001b[39;49mrun_stream(data_to_process, batch_size\u001b[39m=\u001b[39;49m\u001b[39m10\u001b[39;49m, start_batch\u001b[39m=\u001b[39;49m\u001b[39m1\u001b[39;49m)\n",
      "File \u001b[0;32m~/Desktop/Github/IDR_stream/idrstream/idr_stream.py:194\u001b[0m, in \u001b[0;36mIdrStream.run_stream\u001b[0;34m(self, data_to_process, batch_size, start_batch)\u001b[0m\n\u001b[1;32m    192\u001b[0m \u001b[39mself\u001b[39m\u001b[39m.\u001b[39mlogger\u001b[39m.\u001b[39minfo(\u001b[39mf\u001b[39m\u001b[39m\"\u001b[39m\u001b[39mProfiling batch \u001b[39m\u001b[39m{\u001b[39;00mbatch_num\u001b[39m}\u001b[39;00m\u001b[39m\"\u001b[39m)\n\u001b[1;32m    193\u001b[0m \u001b[39mtry\u001b[39;00m:\n\u001b[0;32m--> 194\u001b[0m     \u001b[39mself\u001b[39;49m\u001b[39m.\u001b[39;49mprepare_batch(batch_metadata)\n\u001b[1;32m    195\u001b[0m     \u001b[39mself\u001b[39m\u001b[39m.\u001b[39mcompile_DP_batch_index_csv(\n\u001b[1;32m    196\u001b[0m         batch_metadata\n\u001b[1;32m    197\u001b[0m     )  \u001b[39m# compile index csv for DeepProfiler project for the specific batch\u001b[39;00m\n\u001b[1;32m    198\u001b[0m     \u001b[39mself\u001b[39m\u001b[39m.\u001b[39mprofile_batch()  \u001b[39m# profile batch with Deep Profiler\u001b[39;00m\n",
      "File \u001b[0;32m~/Desktop/Github/IDR_stream/idrstream/idr_stream.py:107\u001b[0m, in \u001b[0;36mIdrStream.prepare_batch\u001b[0;34m(self, batch_metadata)\u001b[0m\n\u001b[1;32m    102\u001b[0m \u001b[39mself\u001b[39m\u001b[39m.\u001b[39mlogger\u001b[39m.\u001b[39minfo(\u001b[39m\"\u001b[39m\u001b[39mSaved corrected frames\u001b[39m\u001b[39m\"\u001b[39m)\n\u001b[1;32m    104\u001b[0m objects_save_path \u001b[39m=\u001b[39m pathlib\u001b[39m.\u001b[39mPath(\n\u001b[1;32m    105\u001b[0m     \u001b[39mf\u001b[39m\u001b[39m\"\u001b[39m\u001b[39m{\u001b[39;00m\u001b[39mself\u001b[39m\u001b[39m.\u001b[39mDP_project_path\u001b[39m}\u001b[39;00m\u001b[39m/inputs/locations/\u001b[39m\u001b[39m{\u001b[39;00mplate\u001b[39m}\u001b[39;00m\u001b[39m/\u001b[39m\u001b[39m\"\u001b[39m\n\u001b[1;32m    106\u001b[0m )\n\u001b[0;32m--> 107\u001b[0m \u001b[39mself\u001b[39;49m\u001b[39m.\u001b[39;49msegmentor\u001b[39m.\u001b[39;49msave_nuclei_locations(\n\u001b[1;32m    108\u001b[0m     plate, well_num, frames_save_path, frame_nums, objects_save_path\n\u001b[1;32m    109\u001b[0m )\n\u001b[1;32m    110\u001b[0m \u001b[39mself\u001b[39m\u001b[39m.\u001b[39mlogger\u001b[39m.\u001b[39minfo(\u001b[39m\"\u001b[39m\u001b[39mSaved nuclei locations\u001b[39m\u001b[39m\"\u001b[39m)\n",
      "File \u001b[0;32m~/Desktop/Github/IDR_stream/idrstream/segment.py:89\u001b[0m, in \u001b[0;36mCellPoseSegmentor.save_nuclei_locations\u001b[0;34m(self, plate, well_num, frames_save_path, frame_nums, objects_save_path)\u001b[0m\n\u001b[1;32m     79\u001b[0m \u001b[39mdef\u001b[39;00m \u001b[39msave_nuclei_locations\u001b[39m(\n\u001b[1;32m     80\u001b[0m     \u001b[39mself\u001b[39m,\n\u001b[1;32m     81\u001b[0m     plate: \u001b[39mstr\u001b[39m,\n\u001b[0;32m   (...)\u001b[0m\n\u001b[1;32m     85\u001b[0m     objects_save_path: pathlib\u001b[39m.\u001b[39mPath,\n\u001b[1;32m     86\u001b[0m ):\n\u001b[1;32m     87\u001b[0m     objects_save_path\u001b[39m.\u001b[39mmkdir(parents\u001b[39m=\u001b[39m\u001b[39mTrue\u001b[39;00m, exist_ok\u001b[39m=\u001b[39m\u001b[39mTrue\u001b[39;00m)\n\u001b[0;32m---> 89\u001b[0m     frame_objects_list \u001b[39m=\u001b[39m \u001b[39mself\u001b[39;49m\u001b[39m.\u001b[39;49mframes_to_objects(\n\u001b[1;32m     90\u001b[0m         plate, well_num, frames_save_path, frame_nums\n\u001b[1;32m     91\u001b[0m     )\n\u001b[1;32m     92\u001b[0m     \u001b[39mfor\u001b[39;00m index, frame_objects \u001b[39min\u001b[39;00m \u001b[39menumerate\u001b[39m(frame_objects_list):\n\u001b[1;32m     93\u001b[0m         frame_num \u001b[39m=\u001b[39m frame_nums[index]\n",
      "File \u001b[0;32m~/Desktop/Github/IDR_stream/idrstream/segment.py:68\u001b[0m, in \u001b[0;36mCellPoseSegmentor.frames_to_objects\u001b[0;34m(self, plate, well_num, frames_save_path, frame_nums)\u001b[0m\n\u001b[1;32m     63\u001b[0m frame_load_path \u001b[39m=\u001b[39m pathlib\u001b[39m.\u001b[39mPath(\n\u001b[1;32m     64\u001b[0m     \u001b[39mf\u001b[39m\u001b[39m\"\u001b[39m\u001b[39m{\u001b[39;00mframes_save_path\u001b[39m}\u001b[39;00m\u001b[39m/\u001b[39m\u001b[39m{\u001b[39;00mplate\u001b[39m}\u001b[39;00m\u001b[39m_\u001b[39m\u001b[39m{\u001b[39;00mwell_num\u001b[39m}\u001b[39;00m\u001b[39m_\u001b[39m\u001b[39m{\u001b[39;00mframe_num\u001b[39m}\u001b[39;00m\u001b[39m.tif\u001b[39m\u001b[39m\"\u001b[39m\n\u001b[1;32m     65\u001b[0m )\n\u001b[1;32m     67\u001b[0m frame \u001b[39m=\u001b[39m skimage\u001b[39m.\u001b[39mio\u001b[39m.\u001b[39mimread(frame_load_path)\n\u001b[0;32m---> 68\u001b[0m frame_object_locations \u001b[39m=\u001b[39m \u001b[39mself\u001b[39;49m\u001b[39m.\u001b[39;49mget_object_locations(frame)\n\u001b[1;32m     69\u001b[0m frame_object_locations \u001b[39m=\u001b[39m frame_object_locations\u001b[39m.\u001b[39mrename(\n\u001b[1;32m     70\u001b[0m     columns\u001b[39m=\u001b[39m{\n\u001b[1;32m     71\u001b[0m         \u001b[39m\"\u001b[39m\u001b[39mLocation_Center_X\u001b[39m\u001b[39m\"\u001b[39m: \u001b[39m\"\u001b[39m\u001b[39mNuclei_Location_Center_X\u001b[39m\u001b[39m\"\u001b[39m,\n\u001b[1;32m     72\u001b[0m         \u001b[39m\"\u001b[39m\u001b[39mLocation_Center_Y\u001b[39m\u001b[39m\"\u001b[39m: \u001b[39m\"\u001b[39m\u001b[39mNuclei_Location_Center_Y\u001b[39m\u001b[39m\"\u001b[39m,\n\u001b[1;32m     73\u001b[0m     }\n\u001b[1;32m     74\u001b[0m )\n\u001b[1;32m     75\u001b[0m frame_objects_list\u001b[39m.\u001b[39mappend(frame_object_locations)\n",
      "File \u001b[0;32m~/Desktop/Github/IDR_stream/idrstream/segment.py:30\u001b[0m, in \u001b[0;36mCellPoseSegmentor.get_object_locations\u001b[0;34m(self, image)\u001b[0m\n\u001b[1;32m     25\u001b[0m objects_data \u001b[39m=\u001b[39m []\n\u001b[1;32m     27\u001b[0m cellpose_model \u001b[39m=\u001b[39m models\u001b[39m.\u001b[39mCellpose(\n\u001b[1;32m     28\u001b[0m     gpu\u001b[39m=\u001b[39m\u001b[39mself\u001b[39m\u001b[39m.\u001b[39muse_GPU, model_type\u001b[39m=\u001b[39m\u001b[39mself\u001b[39m\u001b[39m.\u001b[39mmodel_specs[\u001b[39m\"\u001b[39m\u001b[39mmodel_type\u001b[39m\u001b[39m\"\u001b[39m]\n\u001b[1;32m     29\u001b[0m )\n\u001b[0;32m---> 30\u001b[0m masks, flows, styles, diams \u001b[39m=\u001b[39m cellpose_model\u001b[39m.\u001b[39;49meval(\n\u001b[1;32m     31\u001b[0m     image,\n\u001b[1;32m     32\u001b[0m     diameter\u001b[39m=\u001b[39;49m\u001b[39mself\u001b[39;49m\u001b[39m.\u001b[39;49mmodel_specs[\u001b[39m\"\u001b[39;49m\u001b[39mdiameter\u001b[39;49m\u001b[39m\"\u001b[39;49m],\n\u001b[1;32m     33\u001b[0m     channels\u001b[39m=\u001b[39;49m\u001b[39mself\u001b[39;49m\u001b[39m.\u001b[39;49mmodel_specs[\u001b[39m\"\u001b[39;49m\u001b[39mchannels\u001b[39;49m\u001b[39m\"\u001b[39;49m],\n\u001b[1;32m     34\u001b[0m     flow_threshold\u001b[39m=\u001b[39;49m\u001b[39mself\u001b[39;49m\u001b[39m.\u001b[39;49mmodel_specs[\u001b[39m\"\u001b[39;49m\u001b[39mflow_threshold\u001b[39;49m\u001b[39m\"\u001b[39;49m],\n\u001b[1;32m     35\u001b[0m     cellprob_threshold\u001b[39m=\u001b[39;49m\u001b[39mself\u001b[39;49m\u001b[39m.\u001b[39;49mmodel_specs[\u001b[39m\"\u001b[39;49m\u001b[39mcellprob_threshold\u001b[39;49m\u001b[39m\"\u001b[39;49m],\n\u001b[1;32m     36\u001b[0m )\n\u001b[1;32m     37\u001b[0m \u001b[39m# remove cell masks if they are on the edge\u001b[39;00m\n\u001b[1;32m     38\u001b[0m \u001b[39mif\u001b[39;00m \u001b[39mself\u001b[39m\u001b[39m.\u001b[39mmodel_specs[\u001b[39m\"\u001b[39m\u001b[39mremove_edge_masks\u001b[39m\u001b[39m\"\u001b[39m]:\n",
      "File \u001b[0;32m~/anaconda3/envs/IDR_stream/lib/python3.8/site-packages/cellpose/models.py:215\u001b[0m, in \u001b[0;36mCellpose.eval\u001b[0;34m(self, x, batch_size, channels, channel_axis, z_axis, invert, normalize, diameter, do_3D, anisotropy, net_avg, augment, tile, tile_overlap, resample, interp, flow_threshold, cellprob_threshold, min_size, stitch_threshold, rescale, progress, model_loaded)\u001b[0m\n\u001b[1;32m    213\u001b[0m tic \u001b[39m=\u001b[39m time\u001b[39m.\u001b[39mtime()\n\u001b[1;32m    214\u001b[0m models_logger\u001b[39m.\u001b[39minfo(\u001b[39m'\u001b[39m\u001b[39m~~~ ESTIMATING CELL DIAMETER(S) ~~~\u001b[39m\u001b[39m'\u001b[39m)\n\u001b[0;32m--> 215\u001b[0m diams, _ \u001b[39m=\u001b[39m \u001b[39mself\u001b[39;49m\u001b[39m.\u001b[39;49msz\u001b[39m.\u001b[39;49meval(x, channels\u001b[39m=\u001b[39;49mchannels, channel_axis\u001b[39m=\u001b[39;49mchannel_axis, invert\u001b[39m=\u001b[39;49minvert, batch_size\u001b[39m=\u001b[39;49mbatch_size, \n\u001b[1;32m    216\u001b[0m                         augment\u001b[39m=\u001b[39;49maugment, tile\u001b[39m=\u001b[39;49mtile, normalize\u001b[39m=\u001b[39;49mnormalize)\n\u001b[1;32m    217\u001b[0m rescale \u001b[39m=\u001b[39m \u001b[39mself\u001b[39m\u001b[39m.\u001b[39mdiam_mean \u001b[39m/\u001b[39m np\u001b[39m.\u001b[39marray(diams)\n\u001b[1;32m    218\u001b[0m diameter \u001b[39m=\u001b[39m \u001b[39mNone\u001b[39;00m\n",
      "File \u001b[0;32m~/anaconda3/envs/IDR_stream/lib/python3.8/site-packages/cellpose/models.py:908\u001b[0m, in \u001b[0;36mSizeModel.eval\u001b[0;34m(self, x, channels, channel_axis, normalize, invert, augment, tile, batch_size, progress, interp)\u001b[0m\n\u001b[1;32m    905\u001b[0m     models_logger\u001b[39m.\u001b[39mwarning(\u001b[39m'\u001b[39m\u001b[39mimage is not 2D cannot compute diameter\u001b[39m\u001b[39m'\u001b[39m)\n\u001b[1;32m    906\u001b[0m     \u001b[39mreturn\u001b[39;00m \u001b[39mself\u001b[39m\u001b[39m.\u001b[39mdiam_mean, \u001b[39mself\u001b[39m\u001b[39m.\u001b[39mdiam_mean\n\u001b[0;32m--> 908\u001b[0m styles \u001b[39m=\u001b[39m \u001b[39mself\u001b[39;49m\u001b[39m.\u001b[39;49mcp\u001b[39m.\u001b[39;49meval(x, \n\u001b[1;32m    909\u001b[0m                       channels\u001b[39m=\u001b[39;49mchannels, \n\u001b[1;32m    910\u001b[0m                       channel_axis\u001b[39m=\u001b[39;49mchannel_axis, \n\u001b[1;32m    911\u001b[0m                       normalize\u001b[39m=\u001b[39;49mnormalize, \n\u001b[1;32m    912\u001b[0m                       invert\u001b[39m=\u001b[39;49minvert, \n\u001b[1;32m    913\u001b[0m                       augment\u001b[39m=\u001b[39;49maugment, \n\u001b[1;32m    914\u001b[0m                       tile\u001b[39m=\u001b[39;49mtile,\n\u001b[1;32m    915\u001b[0m                       batch_size\u001b[39m=\u001b[39;49mbatch_size, \n\u001b[1;32m    916\u001b[0m                       net_avg\u001b[39m=\u001b[39;49m\u001b[39mFalse\u001b[39;49;00m,\n\u001b[1;32m    917\u001b[0m                       resample\u001b[39m=\u001b[39;49m\u001b[39mFalse\u001b[39;49;00m,\n\u001b[1;32m    918\u001b[0m                       compute_masks\u001b[39m=\u001b[39;49m\u001b[39mFalse\u001b[39;49;00m)[\u001b[39m-\u001b[39m\u001b[39m1\u001b[39m]\n\u001b[1;32m    920\u001b[0m diam_style \u001b[39m=\u001b[39m \u001b[39mself\u001b[39m\u001b[39m.\u001b[39m_size_estimation(np\u001b[39m.\u001b[39marray(styles))\n\u001b[1;32m    921\u001b[0m diam_style \u001b[39m=\u001b[39m \u001b[39mself\u001b[39m\u001b[39m.\u001b[39mdiam_mean \u001b[39mif\u001b[39;00m (diam_style\u001b[39m==\u001b[39m\u001b[39m0\u001b[39m \u001b[39mor\u001b[39;00m np\u001b[39m.\u001b[39misnan(diam_style)) \u001b[39melse\u001b[39;00m diam_style\n",
      "File \u001b[0;32m~/anaconda3/envs/IDR_stream/lib/python3.8/site-packages/cellpose/models.py:551\u001b[0m, in \u001b[0;36mCellposeModel.eval\u001b[0;34m(self, x, batch_size, channels, channel_axis, z_axis, normalize, invert, rescale, diameter, do_3D, anisotropy, net_avg, augment, tile, tile_overlap, resample, interp, flow_threshold, cellprob_threshold, compute_masks, min_size, stitch_threshold, progress, loop_run, model_loaded)\u001b[0m\n\u001b[1;32m    548\u001b[0m     diameter \u001b[39m=\u001b[39m \u001b[39mself\u001b[39m\u001b[39m.\u001b[39mdiam_labels\n\u001b[1;32m    549\u001b[0m     rescale \u001b[39m=\u001b[39m \u001b[39mself\u001b[39m\u001b[39m.\u001b[39mdiam_mean \u001b[39m/\u001b[39m diameter\n\u001b[0;32m--> 551\u001b[0m masks, styles, dP, cellprob, p \u001b[39m=\u001b[39m \u001b[39mself\u001b[39;49m\u001b[39m.\u001b[39;49m_run_cp(x, \n\u001b[1;32m    552\u001b[0m                                               compute_masks\u001b[39m=\u001b[39;49mcompute_masks,\n\u001b[1;32m    553\u001b[0m                                               normalize\u001b[39m=\u001b[39;49mnormalize,\n\u001b[1;32m    554\u001b[0m                                               invert\u001b[39m=\u001b[39;49minvert,\n\u001b[1;32m    555\u001b[0m                                               rescale\u001b[39m=\u001b[39;49mrescale, \n\u001b[1;32m    556\u001b[0m                                               net_avg\u001b[39m=\u001b[39;49mnet_avg, \n\u001b[1;32m    557\u001b[0m                                               resample\u001b[39m=\u001b[39;49mresample,\n\u001b[1;32m    558\u001b[0m                                               augment\u001b[39m=\u001b[39;49maugment, \n\u001b[1;32m    559\u001b[0m                                               tile\u001b[39m=\u001b[39;49mtile, \n\u001b[1;32m    560\u001b[0m                                               tile_overlap\u001b[39m=\u001b[39;49mtile_overlap,\n\u001b[1;32m    561\u001b[0m                                               flow_threshold\u001b[39m=\u001b[39;49mflow_threshold,\n\u001b[1;32m    562\u001b[0m                                               cellprob_threshold\u001b[39m=\u001b[39;49mcellprob_threshold, \n\u001b[1;32m    563\u001b[0m                                               interp\u001b[39m=\u001b[39;49minterp,\n\u001b[1;32m    564\u001b[0m                                               min_size\u001b[39m=\u001b[39;49mmin_size, \n\u001b[1;32m    565\u001b[0m                                               do_3D\u001b[39m=\u001b[39;49mdo_3D, \n\u001b[1;32m    566\u001b[0m                                               anisotropy\u001b[39m=\u001b[39;49manisotropy,\n\u001b[1;32m    567\u001b[0m                                               stitch_threshold\u001b[39m=\u001b[39;49mstitch_threshold,\n\u001b[1;32m    568\u001b[0m                                               )\n\u001b[1;32m    570\u001b[0m flows \u001b[39m=\u001b[39m [plot\u001b[39m.\u001b[39mdx_to_circ(dP), dP, cellprob, p]\n\u001b[1;32m    571\u001b[0m \u001b[39mreturn\u001b[39;00m masks, flows, styles\n",
      "File \u001b[0;32m~/anaconda3/envs/IDR_stream/lib/python3.8/site-packages/cellpose/models.py:615\u001b[0m, in \u001b[0;36mCellposeModel._run_cp\u001b[0;34m(self, x, compute_masks, normalize, invert, rescale, net_avg, resample, augment, tile, tile_overlap, cellprob_threshold, flow_threshold, min_size, interp, anisotropy, do_3D, stitch_threshold)\u001b[0m\n\u001b[1;32m    613\u001b[0m \u001b[39mif\u001b[39;00m rescale \u001b[39m!=\u001b[39m \u001b[39m1.0\u001b[39m:\n\u001b[1;32m    614\u001b[0m     img \u001b[39m=\u001b[39m transforms\u001b[39m.\u001b[39mresize_image(img, rsz\u001b[39m=\u001b[39mrescale)\n\u001b[0;32m--> 615\u001b[0m yf, style \u001b[39m=\u001b[39m \u001b[39mself\u001b[39;49m\u001b[39m.\u001b[39;49m_run_nets(img, net_avg\u001b[39m=\u001b[39;49mnet_avg,\n\u001b[1;32m    616\u001b[0m                            augment\u001b[39m=\u001b[39;49maugment, tile\u001b[39m=\u001b[39;49mtile,\n\u001b[1;32m    617\u001b[0m                            tile_overlap\u001b[39m=\u001b[39;49mtile_overlap)\n\u001b[1;32m    618\u001b[0m \u001b[39mif\u001b[39;00m resample:\n\u001b[1;32m    619\u001b[0m     yf \u001b[39m=\u001b[39m transforms\u001b[39m.\u001b[39mresize_image(yf, shape[\u001b[39m1\u001b[39m], shape[\u001b[39m2\u001b[39m])\n",
      "File \u001b[0;32m~/anaconda3/envs/IDR_stream/lib/python3.8/site-packages/cellpose/core.py:345\u001b[0m, in \u001b[0;36mUnetModel._run_nets\u001b[0;34m(self, img, net_avg, augment, tile, tile_overlap, bsize, return_conv, progress)\u001b[0m\n\u001b[1;32m    309\u001b[0m \u001b[39m\"\"\" run network (if more than one, loop over networks and average results\u001b[39;00m\n\u001b[1;32m    310\u001b[0m \n\u001b[1;32m    311\u001b[0m \u001b[39mParameters\u001b[39;00m\n\u001b[0;32m   (...)\u001b[0m\n\u001b[1;32m    342\u001b[0m \n\u001b[1;32m    343\u001b[0m \u001b[39m\"\"\"\u001b[39;00m\n\u001b[1;32m    344\u001b[0m \u001b[39mif\u001b[39;00m \u001b[39misinstance\u001b[39m(\u001b[39mself\u001b[39m\u001b[39m.\u001b[39mpretrained_model, \u001b[39mstr\u001b[39m) \u001b[39mor\u001b[39;00m \u001b[39mnot\u001b[39;00m net_avg:  \n\u001b[0;32m--> 345\u001b[0m     y, style \u001b[39m=\u001b[39m \u001b[39mself\u001b[39;49m\u001b[39m.\u001b[39;49m_run_net(img, augment\u001b[39m=\u001b[39;49maugment, tile\u001b[39m=\u001b[39;49mtile, tile_overlap\u001b[39m=\u001b[39;49mtile_overlap,\n\u001b[1;32m    346\u001b[0m                              bsize\u001b[39m=\u001b[39;49mbsize, return_conv\u001b[39m=\u001b[39;49mreturn_conv)\n\u001b[1;32m    347\u001b[0m \u001b[39melse\u001b[39;00m:  \n\u001b[1;32m    348\u001b[0m     \u001b[39mfor\u001b[39;00m j \u001b[39min\u001b[39;00m \u001b[39mrange\u001b[39m(\u001b[39mlen\u001b[39m(\u001b[39mself\u001b[39m\u001b[39m.\u001b[39mpretrained_model)):\n",
      "File \u001b[0;32m~/anaconda3/envs/IDR_stream/lib/python3.8/site-packages/cellpose/core.py:424\u001b[0m, in \u001b[0;36mUnetModel._run_net\u001b[0;34m(self, imgs, augment, tile, tile_overlap, bsize, return_conv)\u001b[0m\n\u001b[1;32m    422\u001b[0m \u001b[39m# run network\u001b[39;00m\n\u001b[1;32m    423\u001b[0m \u001b[39mif\u001b[39;00m tile \u001b[39mor\u001b[39;00m augment \u001b[39mor\u001b[39;00m imgs\u001b[39m.\u001b[39mndim\u001b[39m==\u001b[39m\u001b[39m4\u001b[39m:\n\u001b[0;32m--> 424\u001b[0m     y, style \u001b[39m=\u001b[39m \u001b[39mself\u001b[39;49m\u001b[39m.\u001b[39;49m_run_tiled(imgs, augment\u001b[39m=\u001b[39;49maugment, bsize\u001b[39m=\u001b[39;49mbsize, \n\u001b[1;32m    425\u001b[0m                               tile_overlap\u001b[39m=\u001b[39;49mtile_overlap, \n\u001b[1;32m    426\u001b[0m                               return_conv\u001b[39m=\u001b[39;49mreturn_conv)\n\u001b[1;32m    427\u001b[0m \u001b[39melse\u001b[39;00m:\n\u001b[1;32m    428\u001b[0m     imgs \u001b[39m=\u001b[39m np\u001b[39m.\u001b[39mexpand_dims(imgs, axis\u001b[39m=\u001b[39m\u001b[39m0\u001b[39m)\n",
      "File \u001b[0;32m~/anaconda3/envs/IDR_stream/lib/python3.8/site-packages/cellpose/core.py:525\u001b[0m, in \u001b[0;36mUnetModel._run_tiled\u001b[0;34m(self, imgi, augment, bsize, tile_overlap, return_conv)\u001b[0m\n\u001b[1;32m    523\u001b[0m \u001b[39mfor\u001b[39;00m k \u001b[39min\u001b[39;00m \u001b[39mrange\u001b[39m(niter):\n\u001b[1;32m    524\u001b[0m     irange \u001b[39m=\u001b[39m np\u001b[39m.\u001b[39marange(batch_size\u001b[39m*\u001b[39mk, \u001b[39mmin\u001b[39m(IMG\u001b[39m.\u001b[39mshape[\u001b[39m0\u001b[39m], batch_size\u001b[39m*\u001b[39mk\u001b[39m+\u001b[39mbatch_size))\n\u001b[0;32m--> 525\u001b[0m     y0, style \u001b[39m=\u001b[39m \u001b[39mself\u001b[39;49m\u001b[39m.\u001b[39;49mnetwork(IMG[irange], return_conv\u001b[39m=\u001b[39;49mreturn_conv)\n\u001b[1;32m    526\u001b[0m     y[irange] \u001b[39m=\u001b[39m y0\u001b[39m.\u001b[39mreshape(\u001b[39mlen\u001b[39m(irange), y0\u001b[39m.\u001b[39mshape[\u001b[39m-\u001b[39m\u001b[39m3\u001b[39m], y0\u001b[39m.\u001b[39mshape[\u001b[39m-\u001b[39m\u001b[39m2\u001b[39m], y0\u001b[39m.\u001b[39mshape[\u001b[39m-\u001b[39m\u001b[39m1\u001b[39m])\n\u001b[1;32m    527\u001b[0m     \u001b[39mif\u001b[39;00m k\u001b[39m==\u001b[39m\u001b[39m0\u001b[39m:\n",
      "File \u001b[0;32m~/anaconda3/envs/IDR_stream/lib/python3.8/site-packages/cellpose/core.py:297\u001b[0m, in \u001b[0;36mUnetModel.network\u001b[0;34m(self, x, return_conv)\u001b[0m\n\u001b[1;32m    295\u001b[0m     \u001b[39mself\u001b[39m\u001b[39m.\u001b[39mnet \u001b[39m=\u001b[39m mkldnn_utils\u001b[39m.\u001b[39mto_mkldnn(\u001b[39mself\u001b[39m\u001b[39m.\u001b[39mnet)\n\u001b[1;32m    296\u001b[0m \u001b[39mwith\u001b[39;00m torch\u001b[39m.\u001b[39mno_grad():\n\u001b[0;32m--> 297\u001b[0m     y, style \u001b[39m=\u001b[39m \u001b[39mself\u001b[39;49m\u001b[39m.\u001b[39;49mnet(X)\n\u001b[1;32m    298\u001b[0m \u001b[39mdel\u001b[39;00m X\n\u001b[1;32m    299\u001b[0m y \u001b[39m=\u001b[39m \u001b[39mself\u001b[39m\u001b[39m.\u001b[39m_from_device(y)\n",
      "File \u001b[0;32m~/anaconda3/envs/IDR_stream/lib/python3.8/site-packages/torch/nn/modules/module.py:1110\u001b[0m, in \u001b[0;36mModule._call_impl\u001b[0;34m(self, *input, **kwargs)\u001b[0m\n\u001b[1;32m   1106\u001b[0m \u001b[39m# If we don't have any hooks, we want to skip the rest of the logic in\u001b[39;00m\n\u001b[1;32m   1107\u001b[0m \u001b[39m# this function, and just call forward.\u001b[39;00m\n\u001b[1;32m   1108\u001b[0m \u001b[39mif\u001b[39;00m \u001b[39mnot\u001b[39;00m (\u001b[39mself\u001b[39m\u001b[39m.\u001b[39m_backward_hooks \u001b[39mor\u001b[39;00m \u001b[39mself\u001b[39m\u001b[39m.\u001b[39m_forward_hooks \u001b[39mor\u001b[39;00m \u001b[39mself\u001b[39m\u001b[39m.\u001b[39m_forward_pre_hooks \u001b[39mor\u001b[39;00m _global_backward_hooks\n\u001b[1;32m   1109\u001b[0m         \u001b[39mor\u001b[39;00m _global_forward_hooks \u001b[39mor\u001b[39;00m _global_forward_pre_hooks):\n\u001b[0;32m-> 1110\u001b[0m     \u001b[39mreturn\u001b[39;00m forward_call(\u001b[39m*\u001b[39;49m\u001b[39minput\u001b[39;49m, \u001b[39m*\u001b[39;49m\u001b[39m*\u001b[39;49mkwargs)\n\u001b[1;32m   1111\u001b[0m \u001b[39m# Do not call functions when jit is used\u001b[39;00m\n\u001b[1;32m   1112\u001b[0m full_backward_hooks, non_full_backward_hooks \u001b[39m=\u001b[39m [], []\n",
      "File \u001b[0;32m~/anaconda3/envs/IDR_stream/lib/python3.8/site-packages/cellpose/resnet_torch.py:202\u001b[0m, in \u001b[0;36mCPnet.forward\u001b[0;34m(self, data)\u001b[0m\n\u001b[1;32m    200\u001b[0m \u001b[39mif\u001b[39;00m \u001b[39mself\u001b[39m\u001b[39m.\u001b[39mmkldnn:\n\u001b[1;32m    201\u001b[0m     data \u001b[39m=\u001b[39m data\u001b[39m.\u001b[39mto_mkldnn()\n\u001b[0;32m--> 202\u001b[0m T0    \u001b[39m=\u001b[39m \u001b[39mself\u001b[39;49m\u001b[39m.\u001b[39;49mdownsample(data)\n\u001b[1;32m    203\u001b[0m \u001b[39mif\u001b[39;00m \u001b[39mself\u001b[39m\u001b[39m.\u001b[39mmkldnn:\n\u001b[1;32m    204\u001b[0m     style \u001b[39m=\u001b[39m \u001b[39mself\u001b[39m\u001b[39m.\u001b[39mmake_style(T0[\u001b[39m-\u001b[39m\u001b[39m1\u001b[39m]\u001b[39m.\u001b[39mto_dense()) \n",
      "File \u001b[0;32m~/anaconda3/envs/IDR_stream/lib/python3.8/site-packages/torch/nn/modules/module.py:1110\u001b[0m, in \u001b[0;36mModule._call_impl\u001b[0;34m(self, *input, **kwargs)\u001b[0m\n\u001b[1;32m   1106\u001b[0m \u001b[39m# If we don't have any hooks, we want to skip the rest of the logic in\u001b[39;00m\n\u001b[1;32m   1107\u001b[0m \u001b[39m# this function, and just call forward.\u001b[39;00m\n\u001b[1;32m   1108\u001b[0m \u001b[39mif\u001b[39;00m \u001b[39mnot\u001b[39;00m (\u001b[39mself\u001b[39m\u001b[39m.\u001b[39m_backward_hooks \u001b[39mor\u001b[39;00m \u001b[39mself\u001b[39m\u001b[39m.\u001b[39m_forward_hooks \u001b[39mor\u001b[39;00m \u001b[39mself\u001b[39m\u001b[39m.\u001b[39m_forward_pre_hooks \u001b[39mor\u001b[39;00m _global_backward_hooks\n\u001b[1;32m   1109\u001b[0m         \u001b[39mor\u001b[39;00m _global_forward_hooks \u001b[39mor\u001b[39;00m _global_forward_pre_hooks):\n\u001b[0;32m-> 1110\u001b[0m     \u001b[39mreturn\u001b[39;00m forward_call(\u001b[39m*\u001b[39;49m\u001b[39minput\u001b[39;49m, \u001b[39m*\u001b[39;49m\u001b[39m*\u001b[39;49mkwargs)\n\u001b[1;32m   1111\u001b[0m \u001b[39m# Do not call functions when jit is used\u001b[39;00m\n\u001b[1;32m   1112\u001b[0m full_backward_hooks, non_full_backward_hooks \u001b[39m=\u001b[39m [], []\n",
      "File \u001b[0;32m~/anaconda3/envs/IDR_stream/lib/python3.8/site-packages/cellpose/resnet_torch.py:84\u001b[0m, in \u001b[0;36mdownsample.forward\u001b[0;34m(self, x)\u001b[0m\n\u001b[1;32m     82\u001b[0m     \u001b[39melse\u001b[39;00m:\n\u001b[1;32m     83\u001b[0m         y \u001b[39m=\u001b[39m x\n\u001b[0;32m---> 84\u001b[0m     xd\u001b[39m.\u001b[39mappend(\u001b[39mself\u001b[39;49m\u001b[39m.\u001b[39;49mdown[n](y))\n\u001b[1;32m     85\u001b[0m \u001b[39mreturn\u001b[39;00m xd\n",
      "File \u001b[0;32m~/anaconda3/envs/IDR_stream/lib/python3.8/site-packages/torch/nn/modules/module.py:1110\u001b[0m, in \u001b[0;36mModule._call_impl\u001b[0;34m(self, *input, **kwargs)\u001b[0m\n\u001b[1;32m   1106\u001b[0m \u001b[39m# If we don't have any hooks, we want to skip the rest of the logic in\u001b[39;00m\n\u001b[1;32m   1107\u001b[0m \u001b[39m# this function, and just call forward.\u001b[39;00m\n\u001b[1;32m   1108\u001b[0m \u001b[39mif\u001b[39;00m \u001b[39mnot\u001b[39;00m (\u001b[39mself\u001b[39m\u001b[39m.\u001b[39m_backward_hooks \u001b[39mor\u001b[39;00m \u001b[39mself\u001b[39m\u001b[39m.\u001b[39m_forward_hooks \u001b[39mor\u001b[39;00m \u001b[39mself\u001b[39m\u001b[39m.\u001b[39m_forward_pre_hooks \u001b[39mor\u001b[39;00m _global_backward_hooks\n\u001b[1;32m   1109\u001b[0m         \u001b[39mor\u001b[39;00m _global_forward_hooks \u001b[39mor\u001b[39;00m _global_forward_pre_hooks):\n\u001b[0;32m-> 1110\u001b[0m     \u001b[39mreturn\u001b[39;00m forward_call(\u001b[39m*\u001b[39;49m\u001b[39minput\u001b[39;49m, \u001b[39m*\u001b[39;49m\u001b[39m*\u001b[39;49mkwargs)\n\u001b[1;32m   1111\u001b[0m \u001b[39m# Do not call functions when jit is used\u001b[39;00m\n\u001b[1;32m   1112\u001b[0m full_backward_hooks, non_full_backward_hooks \u001b[39m=\u001b[39m [], []\n",
      "File \u001b[0;32m~/anaconda3/envs/IDR_stream/lib/python3.8/site-packages/cellpose/resnet_torch.py:47\u001b[0m, in \u001b[0;36mresdown.forward\u001b[0;34m(self, x)\u001b[0m\n\u001b[1;32m     46\u001b[0m \u001b[39mdef\u001b[39;00m \u001b[39mforward\u001b[39m(\u001b[39mself\u001b[39m, x):\n\u001b[0;32m---> 47\u001b[0m     x \u001b[39m=\u001b[39m \u001b[39mself\u001b[39;49m\u001b[39m.\u001b[39;49mproj(x) \u001b[39m+\u001b[39m \u001b[39mself\u001b[39m\u001b[39m.\u001b[39mconv[\u001b[39m1\u001b[39m](\u001b[39mself\u001b[39m\u001b[39m.\u001b[39mconv[\u001b[39m0\u001b[39m](x))\n\u001b[1;32m     48\u001b[0m     x \u001b[39m=\u001b[39m x \u001b[39m+\u001b[39m \u001b[39mself\u001b[39m\u001b[39m.\u001b[39mconv[\u001b[39m3\u001b[39m](\u001b[39mself\u001b[39m\u001b[39m.\u001b[39mconv[\u001b[39m2\u001b[39m](x))\n\u001b[1;32m     49\u001b[0m     \u001b[39mreturn\u001b[39;00m x\n",
      "File \u001b[0;32m~/anaconda3/envs/IDR_stream/lib/python3.8/site-packages/torch/nn/modules/module.py:1110\u001b[0m, in \u001b[0;36mModule._call_impl\u001b[0;34m(self, *input, **kwargs)\u001b[0m\n\u001b[1;32m   1106\u001b[0m \u001b[39m# If we don't have any hooks, we want to skip the rest of the logic in\u001b[39;00m\n\u001b[1;32m   1107\u001b[0m \u001b[39m# this function, and just call forward.\u001b[39;00m\n\u001b[1;32m   1108\u001b[0m \u001b[39mif\u001b[39;00m \u001b[39mnot\u001b[39;00m (\u001b[39mself\u001b[39m\u001b[39m.\u001b[39m_backward_hooks \u001b[39mor\u001b[39;00m \u001b[39mself\u001b[39m\u001b[39m.\u001b[39m_forward_hooks \u001b[39mor\u001b[39;00m \u001b[39mself\u001b[39m\u001b[39m.\u001b[39m_forward_pre_hooks \u001b[39mor\u001b[39;00m _global_backward_hooks\n\u001b[1;32m   1109\u001b[0m         \u001b[39mor\u001b[39;00m _global_forward_hooks \u001b[39mor\u001b[39;00m _global_forward_pre_hooks):\n\u001b[0;32m-> 1110\u001b[0m     \u001b[39mreturn\u001b[39;00m forward_call(\u001b[39m*\u001b[39;49m\u001b[39minput\u001b[39;49m, \u001b[39m*\u001b[39;49m\u001b[39m*\u001b[39;49mkwargs)\n\u001b[1;32m   1111\u001b[0m \u001b[39m# Do not call functions when jit is used\u001b[39;00m\n\u001b[1;32m   1112\u001b[0m full_backward_hooks, non_full_backward_hooks \u001b[39m=\u001b[39m [], []\n",
      "File \u001b[0;32m~/anaconda3/envs/IDR_stream/lib/python3.8/site-packages/torch/nn/modules/container.py:141\u001b[0m, in \u001b[0;36mSequential.forward\u001b[0;34m(self, input)\u001b[0m\n\u001b[1;32m    139\u001b[0m \u001b[39mdef\u001b[39;00m \u001b[39mforward\u001b[39m(\u001b[39mself\u001b[39m, \u001b[39minput\u001b[39m):\n\u001b[1;32m    140\u001b[0m     \u001b[39mfor\u001b[39;00m module \u001b[39min\u001b[39;00m \u001b[39mself\u001b[39m:\n\u001b[0;32m--> 141\u001b[0m         \u001b[39minput\u001b[39m \u001b[39m=\u001b[39m module(\u001b[39minput\u001b[39;49m)\n\u001b[1;32m    142\u001b[0m     \u001b[39mreturn\u001b[39;00m \u001b[39minput\u001b[39m\n",
      "File \u001b[0;32m~/anaconda3/envs/IDR_stream/lib/python3.8/site-packages/torch/nn/modules/module.py:1110\u001b[0m, in \u001b[0;36mModule._call_impl\u001b[0;34m(self, *input, **kwargs)\u001b[0m\n\u001b[1;32m   1106\u001b[0m \u001b[39m# If we don't have any hooks, we want to skip the rest of the logic in\u001b[39;00m\n\u001b[1;32m   1107\u001b[0m \u001b[39m# this function, and just call forward.\u001b[39;00m\n\u001b[1;32m   1108\u001b[0m \u001b[39mif\u001b[39;00m \u001b[39mnot\u001b[39;00m (\u001b[39mself\u001b[39m\u001b[39m.\u001b[39m_backward_hooks \u001b[39mor\u001b[39;00m \u001b[39mself\u001b[39m\u001b[39m.\u001b[39m_forward_hooks \u001b[39mor\u001b[39;00m \u001b[39mself\u001b[39m\u001b[39m.\u001b[39m_forward_pre_hooks \u001b[39mor\u001b[39;00m _global_backward_hooks\n\u001b[1;32m   1109\u001b[0m         \u001b[39mor\u001b[39;00m _global_forward_hooks \u001b[39mor\u001b[39;00m _global_forward_pre_hooks):\n\u001b[0;32m-> 1110\u001b[0m     \u001b[39mreturn\u001b[39;00m forward_call(\u001b[39m*\u001b[39;49m\u001b[39minput\u001b[39;49m, \u001b[39m*\u001b[39;49m\u001b[39m*\u001b[39;49mkwargs)\n\u001b[1;32m   1111\u001b[0m \u001b[39m# Do not call functions when jit is used\u001b[39;00m\n\u001b[1;32m   1112\u001b[0m full_backward_hooks, non_full_backward_hooks \u001b[39m=\u001b[39m [], []\n",
      "File \u001b[0;32m~/anaconda3/envs/IDR_stream/lib/python3.8/site-packages/torch/nn/modules/conv.py:447\u001b[0m, in \u001b[0;36mConv2d.forward\u001b[0;34m(self, input)\u001b[0m\n\u001b[1;32m    446\u001b[0m \u001b[39mdef\u001b[39;00m \u001b[39mforward\u001b[39m(\u001b[39mself\u001b[39m, \u001b[39minput\u001b[39m: Tensor) \u001b[39m-\u001b[39m\u001b[39m>\u001b[39m Tensor:\n\u001b[0;32m--> 447\u001b[0m     \u001b[39mreturn\u001b[39;00m \u001b[39mself\u001b[39;49m\u001b[39m.\u001b[39;49m_conv_forward(\u001b[39minput\u001b[39;49m, \u001b[39mself\u001b[39;49m\u001b[39m.\u001b[39;49mweight, \u001b[39mself\u001b[39;49m\u001b[39m.\u001b[39;49mbias)\n",
      "File \u001b[0;32m~/anaconda3/envs/IDR_stream/lib/python3.8/site-packages/torch/nn/modules/conv.py:443\u001b[0m, in \u001b[0;36mConv2d._conv_forward\u001b[0;34m(self, input, weight, bias)\u001b[0m\n\u001b[1;32m    439\u001b[0m \u001b[39mif\u001b[39;00m \u001b[39mself\u001b[39m\u001b[39m.\u001b[39mpadding_mode \u001b[39m!=\u001b[39m \u001b[39m'\u001b[39m\u001b[39mzeros\u001b[39m\u001b[39m'\u001b[39m:\n\u001b[1;32m    440\u001b[0m     \u001b[39mreturn\u001b[39;00m F\u001b[39m.\u001b[39mconv2d(F\u001b[39m.\u001b[39mpad(\u001b[39minput\u001b[39m, \u001b[39mself\u001b[39m\u001b[39m.\u001b[39m_reversed_padding_repeated_twice, mode\u001b[39m=\u001b[39m\u001b[39mself\u001b[39m\u001b[39m.\u001b[39mpadding_mode),\n\u001b[1;32m    441\u001b[0m                     weight, bias, \u001b[39mself\u001b[39m\u001b[39m.\u001b[39mstride,\n\u001b[1;32m    442\u001b[0m                     _pair(\u001b[39m0\u001b[39m), \u001b[39mself\u001b[39m\u001b[39m.\u001b[39mdilation, \u001b[39mself\u001b[39m\u001b[39m.\u001b[39mgroups)\n\u001b[0;32m--> 443\u001b[0m \u001b[39mreturn\u001b[39;00m F\u001b[39m.\u001b[39;49mconv2d(\u001b[39minput\u001b[39;49m, weight, bias, \u001b[39mself\u001b[39;49m\u001b[39m.\u001b[39;49mstride,\n\u001b[1;32m    444\u001b[0m                 \u001b[39mself\u001b[39;49m\u001b[39m.\u001b[39;49mpadding, \u001b[39mself\u001b[39;49m\u001b[39m.\u001b[39;49mdilation, \u001b[39mself\u001b[39;49m\u001b[39m.\u001b[39;49mgroups)\n",
      "\u001b[0;31mKeyboardInterrupt\u001b[0m: "
     ]
    }
   ],
   "source": [
    "stream.run_stream(data_to_process, batch_size=10, start_batch=1)"
   ]
  }
 ],
 "metadata": {
  "kernelspec": {
   "display_name": "Python 3.8.13 ('IDR_stream')",
   "language": "python",
   "name": "python3"
  },
  "language_info": {
   "codemirror_mode": {
    "name": "ipython",
    "version": 3
   },
   "file_extension": ".py",
   "mimetype": "text/x-python",
   "name": "python",
   "nbconvert_exporter": "python",
   "pygments_lexer": "ipython3",
   "version": "3.8.13"
  },
  "orig_nbformat": 4,
  "vscode": {
   "interpreter": {
    "hash": "8670c1752d8b30f6b79110f3a7164fbb604e53a48b4190f3b3261fda6dff5a4e"
   }
  }
 },
 "nbformat": 4,
 "nbformat_minor": 2
}
