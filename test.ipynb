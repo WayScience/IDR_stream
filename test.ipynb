{
 "cells": [
  {
   "cell_type": "code",
   "execution_count": 8,
   "metadata": {},
   "outputs": [],
   "source": [
    "import pathlib\n",
    "import pandas as pd\n",
    "import numpy as np"
   ]
  },
  {
   "cell_type": "code",
   "execution_count": 9,
   "metadata": {},
   "outputs": [],
   "source": [
    "test_csv_path = pathlib.Path(\"tmp2/DP_project/inputs/locations/LT0001_02/4_50-1-Nuclei.csv\")\n",
    "test_df = pd.read_csv(test_csv_path)"
   ]
  },
  {
   "cell_type": "code",
   "execution_count": null,
   "metadata": {},
   "outputs": [],
   "source": [
    "def"
   ]
  },
  {
   "cell_type": "code",
   "execution_count": 10,
   "metadata": {},
   "outputs": [
    {
     "data": {
      "text/html": [
       "<div>\n",
       "<style scoped>\n",
       "    .dataframe tbody tr th:only-of-type {\n",
       "        vertical-align: middle;\n",
       "    }\n",
       "\n",
       "    .dataframe tbody tr th {\n",
       "        vertical-align: top;\n",
       "    }\n",
       "\n",
       "    .dataframe thead th {\n",
       "        text-align: right;\n",
       "    }\n",
       "</style>\n",
       "<table border=\"1\" class=\"dataframe\">\n",
       "  <thead>\n",
       "    <tr style=\"text-align: right;\">\n",
       "      <th></th>\n",
       "      <th>Nuclei_Location_Center_X</th>\n",
       "      <th>Nuclei_Location_Center_Y</th>\n",
       "      <th>object_outline</th>\n",
       "    </tr>\n",
       "  </thead>\n",
       "  <tbody>\n",
       "    <tr>\n",
       "      <th>0</th>\n",
       "      <td>668.435644</td>\n",
       "      <td>28.118812</td>\n",
       "      <td>[[668   7]\\n [667   8]\\n [666   8]\\n [665   9]...</td>\n",
       "    </tr>\n",
       "    <tr>\n",
       "      <th>1</th>\n",
       "      <td>1015.012195</td>\n",
       "      <td>21.646341</td>\n",
       "      <td>[[1011    7]\\n [1010    8]\\n [1009    8]\\n [10...</td>\n",
       "    </tr>\n",
       "    <tr>\n",
       "      <th>2</th>\n",
       "      <td>896.988764</td>\n",
       "      <td>23.696629</td>\n",
       "      <td>[[895   8]\\n [894   9]\\n [893   9]\\n [892   9]...</td>\n",
       "    </tr>\n",
       "    <tr>\n",
       "      <th>3</th>\n",
       "      <td>529.269231</td>\n",
       "      <td>22.294872</td>\n",
       "      <td>[[528   9]\\n [527  10]\\n [526  10]\\n [525  10]...</td>\n",
       "    </tr>\n",
       "    <tr>\n",
       "      <th>4</th>\n",
       "      <td>480.289474</td>\n",
       "      <td>22.973684</td>\n",
       "      <td>[[478  10]\\n [477  11]\\n [476  11]\\n [475  12]...</td>\n",
       "    </tr>\n",
       "    <tr>\n",
       "      <th>...</th>\n",
       "      <td>...</td>\n",
       "      <td>...</td>\n",
       "      <td>...</td>\n",
       "    </tr>\n",
       "    <tr>\n",
       "      <th>280</th>\n",
       "      <td>582.786517</td>\n",
       "      <td>997.179775</td>\n",
       "      <td>[[ 580  982]\\n [ 579  983]\\n [ 578  984]\\n [ 5...</td>\n",
       "    </tr>\n",
       "    <tr>\n",
       "      <th>281</th>\n",
       "      <td>211.164835</td>\n",
       "      <td>993.681319</td>\n",
       "      <td>[[ 196  984]\\n [ 195  985]\\n [ 194  985]\\n [ 1...</td>\n",
       "    </tr>\n",
       "    <tr>\n",
       "      <th>282</th>\n",
       "      <td>561.506849</td>\n",
       "      <td>994.000000</td>\n",
       "      <td>[[ 561  984]\\n [ 560  985]\\n [ 559  985]\\n [ 5...</td>\n",
       "    </tr>\n",
       "    <tr>\n",
       "      <th>283</th>\n",
       "      <td>1309.139241</td>\n",
       "      <td>1002.000000</td>\n",
       "      <td>[[1310  989]\\n [1309  990]\\n [1308  990]\\n [13...</td>\n",
       "    </tr>\n",
       "    <tr>\n",
       "      <th>284</th>\n",
       "      <td>203.225352</td>\n",
       "      <td>1010.211268</td>\n",
       "      <td>[[ 199  999]\\n [ 198 1000]\\n [ 197 1001]\\n [ 1...</td>\n",
       "    </tr>\n",
       "  </tbody>\n",
       "</table>\n",
       "<p>285 rows × 3 columns</p>\n",
       "</div>"
      ],
      "text/plain": [
       "     Nuclei_Location_Center_X  Nuclei_Location_Center_Y  \\\n",
       "0                  668.435644                 28.118812   \n",
       "1                 1015.012195                 21.646341   \n",
       "2                  896.988764                 23.696629   \n",
       "3                  529.269231                 22.294872   \n",
       "4                  480.289474                 22.973684   \n",
       "..                        ...                       ...   \n",
       "280                582.786517                997.179775   \n",
       "281                211.164835                993.681319   \n",
       "282                561.506849                994.000000   \n",
       "283               1309.139241               1002.000000   \n",
       "284                203.225352               1010.211268   \n",
       "\n",
       "                                        object_outline  \n",
       "0    [[668   7]\\n [667   8]\\n [666   8]\\n [665   9]...  \n",
       "1    [[1011    7]\\n [1010    8]\\n [1009    8]\\n [10...  \n",
       "2    [[895   8]\\n [894   9]\\n [893   9]\\n [892   9]...  \n",
       "3    [[528   9]\\n [527  10]\\n [526  10]\\n [525  10]...  \n",
       "4    [[478  10]\\n [477  11]\\n [476  11]\\n [475  12]...  \n",
       "..                                                 ...  \n",
       "280  [[ 580  982]\\n [ 579  983]\\n [ 578  984]\\n [ 5...  \n",
       "281  [[ 196  984]\\n [ 195  985]\\n [ 194  985]\\n [ 1...  \n",
       "282  [[ 561  984]\\n [ 560  985]\\n [ 559  985]\\n [ 5...  \n",
       "283  [[1310  989]\\n [1309  990]\\n [1308  990]\\n [13...  \n",
       "284  [[ 199  999]\\n [ 198 1000]\\n [ 197 1001]\\n [ 1...  \n",
       "\n",
       "[285 rows x 3 columns]"
      ]
     },
     "execution_count": 10,
     "metadata": {},
     "output_type": "execute_result"
    }
   ],
   "source": [
    "test_df"
   ]
  },
  {
   "cell_type": "code",
   "execution_count": 11,
   "metadata": {},
   "outputs": [],
   "source": [
    "outlines = test_df[\"object_outline\"].iloc[0]"
   ]
  },
  {
   "cell_type": "code",
   "execution_count": 12,
   "metadata": {},
   "outputs": [
    {
     "data": {
      "text/plain": [
       "array('[[668   7]\\n [667   8]\\n [666   8]\\n [665   9]\\n [664  10]\\n [664  11]\\n [664  12]\\n [664  13]\\n [664  14]\\n [664  15]\\n [663  16]\\n [662  17]\\n [661  18]\\n [660  18]\\n [659  19]\\n [658  20]\\n [657  21]\\n [657  22]\\n [656  23]\\n [656  24]\\n [655  25]\\n [655  26]\\n [655  27]\\n [654  28]\\n [654  29]\\n [654  30]\\n [654  31]\\n [654  32]\\n [654  33]\\n [654  34]\\n [654  35]\\n [654  36]\\n [654  37]\\n [654  38]\\n [654  39]\\n [655  40]\\n [655  41]\\n [656  42]\\n [656  43]\\n [657  44]\\n [658  45]\\n [659  46]\\n [660  46]\\n [661  47]\\n [662  47]\\n [663  48]\\n [664  48]\\n [665  48]\\n [666  48]\\n [667  48]\\n [668  48]\\n [669  48]\\n [670  48]\\n [671  47]\\n [672  46]\\n [673  45]\\n [674  45]\\n [675  44]\\n [676  43]\\n [677  42]\\n [678  42]\\n [678  41]\\n [679  40]\\n [679  39]\\n [680  38]\\n [680  37]\\n [681  36]\\n [681  35]\\n [681  34]\\n [681  33]\\n [682  32]\\n [682  31]\\n [682  30]\\n [682  29]\\n [682  28]\\n [681  27]\\n [682  26]\\n [682  25]\\n [681  24]\\n [681  23]\\n [681  22]\\n [681  21]\\n [681  20]\\n [681  19]\\n [680  18]\\n [680  17]\\n [680  16]\\n [680  15]\\n [679  14]\\n [679  13]\\n [679  12]\\n [678  11]\\n [677  10]\\n [676   9]\\n [675   8]\\n [674   8]\\n [673   7]\\n [672   7]\\n [671   7]\\n [670   7]\\n [669   7]]',\n",
       "      dtype='<U1111')"
      ]
     },
     "execution_count": 12,
     "metadata": {},
     "output_type": "execute_result"
    }
   ],
   "source": [
    "np.array(outlines)"
   ]
  }
 ],
 "metadata": {
  "kernelspec": {
   "display_name": "Python 3.10.4 64-bit",
   "language": "python",
   "name": "python3"
  },
  "language_info": {
   "codemirror_mode": {
    "name": "ipython",
    "version": 3
   },
   "file_extension": ".py",
   "mimetype": "text/x-python",
   "name": "python",
   "nbconvert_exporter": "python",
   "pygments_lexer": "ipython3",
   "version": "3.10.4"
  },
  "orig_nbformat": 4,
  "vscode": {
   "interpreter": {
    "hash": "916dbcbb3f70747c44a77c7bcd40155683ae19c65e1c03b4aa3499c5328201f1"
   }
  }
 },
 "nbformat": 4,
 "nbformat_minor": 2
}
