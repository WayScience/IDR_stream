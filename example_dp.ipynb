{
 "cells": [
  {
   "cell_type": "code",
   "execution_count": null,
   "metadata": {},
   "outputs": [],
   "source": [
    "import pathlib\n",
    "import pandas as pd\n",
    "import shutil\n",
    "import logging\n",
    "\n",
    "from idrstream.DP_idr import DeepProfilerRun"
   ]
  },
  {
   "cell_type": "code",
   "execution_count": null,
   "metadata": {},
   "outputs": [],
   "source": [
    "data_to_process = pd.read_csv(\"example_files/data_to_process.tsv\", sep=\"\\t\", index_col=0)\n",
    "# remove A1 wells because of irregular illumination\n",
    "data_to_process = data_to_process[data_to_process[\"Well\"] != \"A1\"]\n",
    "data_to_process = data_to_process.reset_index(drop=True)\n",
    "data_to_process"
   ]
  },
  {
   "cell_type": "code",
   "execution_count": null,
   "metadata": {},
   "outputs": [],
   "source": [
    "idr_id = \"idr0013\"\n",
    "tmp_dir = pathlib.Path(\"tmp/\")\n",
    "final_data_dir = pathlib.Path(\"mitocheck_control_features/\")\n",
    "try:\n",
    "    shutil.rmtree(tmp_dir)\n",
    "    # shutil.rmtree(final_data_dir)\n",
    "    pass\n",
    "except:\n",
    "    print(\"No files to remove\")\n",
    "\n",
    "stream = DeepProfilerRun(idr_id, tmp_dir, final_data_dir, log='dp_idrstream.log')"
   ]
  },
  {
   "cell_type": "code",
   "execution_count": null,
   "metadata": {},
   "outputs": [],
   "source": [
    "aspera_path = pathlib.Path(\"example_files/asperaweb_id_dsa.openssh\")\n",
    "aspera_key_path = pathlib.Path(\"example_files/asperaweb_id_dsa.openssh\")\n",
    "screens_path = pathlib.Path(\"example_files/idr0013-screenA-plates.tsv\")\n",
    "save_dir = pathlib.Path(\"data/\")\n",
    "\n",
    "stream.init_downloader(aspera_path, aspera_key_path, screens_path)"
   ]
  },
  {
   "cell_type": "code",
   "execution_count": null,
   "metadata": {},
   "outputs": [],
   "source": [
    "#currently causing major issues... again\n",
    "fiji_path = pathlib.Path(\"/home/jenna/Desktop/test/Fiji.app\")\n",
    "stream.init_preprocessor(fiji_path)"
   ]
  },
  {
   "cell_type": "code",
   "execution_count": null,
   "metadata": {},
   "outputs": [],
   "source": [
    "nuclei_model_specs = {\n",
    "            \"model_type\": \"cyto\",\n",
    "            \"channels\": [0, 0],\n",
    "            \"diameter\": 0,\n",
    "            \"flow_threshold\": 0.8,\n",
    "            \"cellprob_threshold\": 0,\n",
    "            \"remove_edge_masks\": True,\n",
    "        }\n",
    "stream.init_segmentor(nuclei_model_specs)"
   ]
  },
  {
   "cell_type": "code",
   "execution_count": null,
   "metadata": {},
   "outputs": [],
   "source": [
    "config_path = pathlib.Path(\"example_files/DP_files/mitocheck_profiling_config.json\")\n",
    "checkpoint_path = pathlib.Path(\"example_files/DP_files/efficientnet-b0_weights_tf_dim_ordering_tf_kernels_autoaugment.h5\")\n",
    "stream.copy_DP_files(config_path, checkpoint_path)"
   ]
  },
  {
   "cell_type": "code",
   "execution_count": null,
   "metadata": {},
   "outputs": [],
   "source": [
    "stream.run_dp_stream(data_to_process, batch_size=3, start_batch=0, batch_nums=[0])"
   ]
  }
 ],
 "metadata": {
  "kernelspec": {
   "display_name": "Python 3.8.13 ('idrstream_dp')",
   "language": "python",
   "name": "python3"
  },
  "language_info": {
   "codemirror_mode": {
    "name": "ipython",
    "version": 3
   },
   "file_extension": ".py",
   "mimetype": "text/x-python",
   "name": "python",
   "nbconvert_exporter": "python",
   "pygments_lexer": "ipython3",
   "version": "3.8.13"
  },
  "orig_nbformat": 4,
  "vscode": {
   "interpreter": {
    "hash": "8444c0e077a26343643d44f77912103cf2516af8a07fb2e111064d0b3a8c9fb8"
   }
  }
 },
 "nbformat": 4,
 "nbformat_minor": 2
}
